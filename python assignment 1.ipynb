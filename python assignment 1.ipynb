{
 "cells": [
  {
   "cell_type": "markdown",
   "id": "bd4d390c",
   "metadata": {},
   "source": [
    "# Problem 1\n",
    "- Write a program which will find all such numbers are divisible by 7 but are not a mulriple of 5, between 2000 and 3200 (both included).The numbers obtained should be printed in a comma-seperated sequence on a single line."
   ]
  },
  {
   "cell_type": "code",
   "execution_count": 1,
   "id": "9a902c38",
   "metadata": {},
   "outputs": [
    {
     "name": "stdout",
     "output_type": "stream",
     "text": [
      "2002,2009,2016,2023,2037,2044,2051,2058,2072,2079,2086,2093,2107,2114,2121,2128,2142,2149,2156,2163,2177,2184,2191,2198,2212,2219,2226,2233,2247,2254,2261,2268,2282,2289,2296,2303,2317,2324,2331,2338,2352,2359,2366,2373,2387,2394,2401,2408,2422,2429,2436,2443,2457,2464,2471,2478,2492,2499,2506,2513,2527,2534,2541,2548,2562,2569,2576,2583,2597,2604,2611,2618,2632,2639,2646,2653,2667,2674,2681,2688,2702,2709,2716,2723,2737,2744,2751,2758,2772,2779,2786,2793,2807,2814,2821,2828,2842,2849,2856,2863,2877,2884,2891,2898,2912,2919,2926,2933,2947,2954,2961,2968,2982,2989,2996,3003,3017,3024,3031,3038,3052,3059,3066,3073,3087,3094,3101,3108,3122,3129,3136,3143,3157,3164,3171,3178,3192,3199,"
     ]
    }
   ],
   "source": [
    "for i in range(2000,3201):\n",
    "    if(i%7==0 and i%5!=0):\n",
    "        print(i,end=',')"
   ]
  },
  {
   "cell_type": "markdown",
   "id": "189de7d3",
   "metadata": {},
   "source": [
    "# Problem 2\n",
    "- Write a Python Program to accept the user's first and last name and then getting them printed in reverse order with a space between first name and last name."
   ]
  },
  {
   "cell_type": "code",
   "execution_count": 2,
   "id": "3892090f",
   "metadata": {},
   "outputs": [
    {
     "name": "stdout",
     "output_type": "stream",
     "text": [
      "Enter first name: chandrareddy\n",
      "Enter last name: tiyyagura\n",
      "ydderardnahc   arugayyit\n"
     ]
    }
   ],
   "source": [
    "firstname = input(\"Enter first name: \")\n",
    "lastname = input(\"Enter last name: \")\n",
    "print(firstname[::-1],' ',lastname[::-1])"
   ]
  },
  {
   "cell_type": "markdown",
   "id": "5c3b2460",
   "metadata": {},
   "source": [
    "# Problem 3\n",
    "- Write a python program to find thr volume of a sphere with diameter 12 cm.\n",
    "- Formula: V = 4/3*π*r^3"
   ]
  },
  {
   "cell_type": "code",
   "execution_count": 3,
   "id": "68ba7d95",
   "metadata": {},
   "outputs": [
    {
     "name": "stdout",
     "output_type": "stream",
     "text": [
      "Enter radius: 21.21\n",
      "Volume of sphere is 39967.83\n"
     ]
    }
   ],
   "source": [
    "import math\n",
    "r = float(input('Enter radius: '))\n",
    "print(\"Volume of sphere is {:.2f}\".format(4/3*math.pi*r**3))"
   ]
  },
  {
   "cell_type": "markdown",
   "id": "ea070d3e",
   "metadata": {},
   "source": [
    "# End of notebook"
   ]
  }
 ],
 "metadata": {
  "kernelspec": {
   "display_name": "Python 3",
   "language": "python",
   "name": "python3"
  },
  "language_info": {
   "codemirror_mode": {
    "name": "ipython",
    "version": 3
   },
   "file_extension": ".py",
   "mimetype": "text/x-python",
   "name": "python",
   "nbconvert_exporter": "python",
   "pygments_lexer": "ipython3",
   "version": "3.8.8"
  }
 },
 "nbformat": 4,
 "nbformat_minor": 5
}
