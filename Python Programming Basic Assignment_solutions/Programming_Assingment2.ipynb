{
 "cells": [
  {
   "cell_type": "markdown",
   "id": "dd2dd4db",
   "metadata": {},
   "source": [
    "## 1.\tWrite a Python program to convert kilometers to miles?"
   ]
  },
  {
   "cell_type": "code",
   "execution_count": 2,
   "id": "ba8209a6",
   "metadata": {},
   "outputs": [
    {
     "name": "stdout",
     "output_type": "stream",
     "text": [
      "Enter kilometers : 144\n",
      "144 value in miles is 89.47728\n"
     ]
    }
   ],
   "source": [
    "km = int(input(\"Enter kilometers : \"))\n",
    "miles =  0.62137 * km\n",
    "print(km,\"value in miles is\",miles)"
   ]
  },
  {
   "cell_type": "markdown",
   "id": "e5e913df",
   "metadata": {},
   "source": [
    "##  2.\tWrite a Python program to convert Celsius to Fahrenheit?"
   ]
  },
  {
   "cell_type": "code",
   "execution_count": 4,
   "id": "24e349ad",
   "metadata": {},
   "outputs": [
    {
     "name": "stdout",
     "output_type": "stream",
     "text": [
      "Enter celsius temperature value : 36\n",
      "36.0 value in fahrenheit is 96.8\n"
     ]
    }
   ],
   "source": [
    "c = float(input(\"Enter celsius temperature value : \"))\n",
    "f = (c * 9 / 5) + 32 \n",
    "print(c,\"value in fahrenheit is\",f)"
   ]
  },
  {
   "cell_type": "markdown",
   "id": "4b7edffd",
   "metadata": {},
   "source": [
    "## 3.\tWrite a Python program to display calendar?"
   ]
  },
  {
   "cell_type": "code",
   "execution_count": 6,
   "id": "95bc30e5",
   "metadata": {},
   "outputs": [
    {
     "name": "stdout",
     "output_type": "stream",
     "text": [
      "Enter a year : 2000\n",
      "Enter a month : 05\n",
      "      May 2000\n",
      "Mo Tu We Th Fr Sa Su\n",
      " 1  2  3  4  5  6  7\n",
      " 8  9 10 11 12 13 14\n",
      "15 16 17 18 19 20 21\n",
      "22 23 24 25 26 27 28\n",
      "29 30 31\n",
      "\n"
     ]
    }
   ],
   "source": [
    "import calendar\n",
    "y = int(input(\"Enter a year : \"))\n",
    "m = int(input(\"Enter a month : \"))\n",
    "print(calendar.month(y,m))"
   ]
  },
  {
   "cell_type": "markdown",
   "id": "0ef9224a",
   "metadata": {},
   "source": [
    "## 4.\tWrite a Python program to solve quadratic equation?"
   ]
  },
  {
   "cell_type": "code",
   "execution_count": 9,
   "id": "ed2b70d8",
   "metadata": {},
   "outputs": [
    {
     "name": "stdout",
     "output_type": "stream",
     "text": [
      "Enter the coefficient of x^2 : 1\n",
      "Enter the coefficient of x : 3\n",
      "Enter the coefficient of constant : 5\n",
      "Roots are imaginary\n"
     ]
    }
   ],
   "source": [
    "import math\n",
    "a = int(input(\"Enter the coefficient of x^2 : \"))\n",
    "b = int(input(\"Enter the coefficient of x : \"))\n",
    "c = int(input(\"Enter the coefficient of constant : \"))\n",
    "res = b**2 - 4 * a * c\n",
    "if(res>0):\n",
    "    r1 = (-b - math.sqrt(b**2 - 4 * a * c)) / (2 * a)\n",
    "    r2 = (-b + math.sqrt(b**2 - 4 * a * c)) / (2 * a)\n",
    "    print(\"Roots of the given equation are : \",r1,r2)\n",
    "elif(res==0):\n",
    "    r1 = (-b - math.sqrt(b**2 - 4 * a * c)) / (2 * a)\n",
    "    print(\"Roots of the given equation are : \",r1,r1)\n",
    "else:\n",
    "    print(\"Roots are imaginary\")"
   ]
  },
  {
   "cell_type": "markdown",
   "id": "37017c78",
   "metadata": {},
   "source": [
    "## 5.\tWrite a Python program to swap two variables without temp variable?"
   ]
  },
  {
   "cell_type": "code",
   "execution_count": 10,
   "id": "282b3d91",
   "metadata": {},
   "outputs": [
    {
     "name": "stdout",
     "output_type": "stream",
     "text": [
      "Enter first number : 10\n",
      "Enter second number : 20\n",
      "first and second number before swaaping :  10 20\n",
      "first and second number after swaaping :  20 10\n"
     ]
    }
   ],
   "source": [
    "n1 = int(input(\"Enter first number : \"))\n",
    "n2 = int(input(\"Enter second number : \"))\n",
    "print(\"first and second number before swaaping : \" ,n1,n2)\n",
    "t = n1\n",
    "n1 = n2\n",
    "n2 = t\n",
    "print(\"first and second number after swaaping : \" ,n1,n2)"
   ]
  },
  {
   "cell_type": "code",
   "execution_count": null,
   "id": "436eda95",
   "metadata": {},
   "outputs": [],
   "source": []
  }
 ],
 "metadata": {
  "kernelspec": {
   "display_name": "Python 3 (ipykernel)",
   "language": "python",
   "name": "python3"
  },
  "language_info": {
   "codemirror_mode": {
    "name": "ipython",
    "version": 3
   },
   "file_extension": ".py",
   "mimetype": "text/x-python",
   "name": "python",
   "nbconvert_exporter": "python",
   "pygments_lexer": "ipython3",
   "version": "3.9.7"
  }
 },
 "nbformat": 4,
 "nbformat_minor": 5
}
