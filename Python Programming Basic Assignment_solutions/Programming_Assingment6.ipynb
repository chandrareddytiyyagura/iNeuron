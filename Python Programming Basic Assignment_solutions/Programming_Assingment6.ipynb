{
 "cells": [
  {
   "cell_type": "markdown",
   "id": "60f0f201",
   "metadata": {},
   "source": [
    "## 1.\tWrite a Python Program to Display Fibonacci Sequence Using Recursion?"
   ]
  },
  {
   "cell_type": "code",
   "execution_count": 2,
   "id": "b5d66f04",
   "metadata": {},
   "outputs": [
    {
     "name": "stdout",
     "output_type": "stream",
     "text": [
      "Enter a number10\n",
      "0 1 1 2 3 5 8 13 21 34 "
     ]
    }
   ],
   "source": [
    "def fib(n):\n",
    "    if n==0:\n",
    "        return 0\n",
    "    elif n==1:\n",
    "        return 1\n",
    "    else:\n",
    "        return fib(n-1)+fib(n-2)\n",
    "n = int(input(\"Enter a number\"))\n",
    "for i in range(n):\n",
    "    print(fib(i),end=' ')"
   ]
  },
  {
   "cell_type": "markdown",
   "id": "6c9e2c5b",
   "metadata": {},
   "source": [
    "## 2.\tWrite a Python Program to Find Factorial of Number Using Recursion?"
   ]
  },
  {
   "cell_type": "code",
   "execution_count": 4,
   "id": "98dff97b",
   "metadata": {},
   "outputs": [
    {
     "name": "stdout",
     "output_type": "stream",
     "text": [
      "Enter a number : 5\n",
      "Factorial of a number :  120\n"
     ]
    }
   ],
   "source": [
    "def fact(n):\n",
    "    if n==0 :\n",
    "        return 1\n",
    "    else:\n",
    "        return n * fact(n-1)\n",
    "n = int(input(\"Enter a number : \"))\n",
    "print(\"Factorial of a number : \",fact(n))"
   ]
  },
  {
   "cell_type": "markdown",
   "id": "8437415d",
   "metadata": {},
   "source": [
    "## 3.\tWrite a Python Program to calculate your Body Mass Index?"
   ]
  },
  {
   "cell_type": "code",
   "execution_count": 8,
   "id": "8aa77507",
   "metadata": {},
   "outputs": [
    {
     "name": "stdout",
     "output_type": "stream",
     "text": [
      "Enter weight of a person in kgs : 70\n",
      "Enter height of a person in meters : 1.8\n",
      "Body Mass Index for given height and weight is :  21.604938271604937\n"
     ]
    }
   ],
   "source": [
    "def BMI(h,w):\n",
    "    return w/(h**2)\n",
    "w = float(input(\"Enter weight of a person in kgs : \"))\n",
    "h = float(input(\"Enter height of a person in meters : \"))\n",
    "print(\"Body Mass Index for given height and weight is : \",BMI(h,w))"
   ]
  },
  {
   "cell_type": "markdown",
   "id": "0d878fa6",
   "metadata": {},
   "source": [
    "## 4.\tWrite a Python Program to calculate the natural logarithm of any number?"
   ]
  },
  {
   "cell_type": "code",
   "execution_count": 13,
   "id": "e075e5b9",
   "metadata": {},
   "outputs": [
    {
     "name": "stdout",
     "output_type": "stream",
     "text": [
      "Enter a number : 125\n",
      "Log value of given number is :  4.8283137373023015\n"
     ]
    }
   ],
   "source": [
    "import math\n",
    "def vlog(n):\n",
    "    return math.log(n)\n",
    "n = int(input(\"Enter a number : \"))\n",
    "print(\"Log value of given number is : \",vlog(n))"
   ]
  },
  {
   "cell_type": "markdown",
   "id": "868a900b",
   "metadata": {},
   "source": [
    "## 5.\tWrite a Python Program for cube sum of first n natural numbers?"
   ]
  },
  {
   "cell_type": "code",
   "execution_count": 17,
   "id": "3c948d87",
   "metadata": {},
   "outputs": [
    {
     "name": "stdout",
     "output_type": "stream",
     "text": [
      "Enter a number : 10\n",
      "cube sum of first 10 natural numbers :  3025\n"
     ]
    }
   ],
   "source": [
    "def csonn(n):\n",
    "    return (n**2*(n+1)**2)/4\n",
    "n = int(input(\"Enter a number : \"))\n",
    "print(\"cube sum of first\",n,\"natural numbers : \",int(csonn(n)))"
   ]
  },
  {
   "cell_type": "code",
   "execution_count": null,
   "id": "d4b8a7e1",
   "metadata": {},
   "outputs": [],
   "source": []
  }
 ],
 "metadata": {
  "kernelspec": {
   "display_name": "Python 3 (ipykernel)",
   "language": "python",
   "name": "python3"
  },
  "language_info": {
   "codemirror_mode": {
    "name": "ipython",
    "version": 3
   },
   "file_extension": ".py",
   "mimetype": "text/x-python",
   "name": "python",
   "nbconvert_exporter": "python",
   "pygments_lexer": "ipython3",
   "version": "3.9.7"
  }
 },
 "nbformat": 4,
 "nbformat_minor": 5
}
