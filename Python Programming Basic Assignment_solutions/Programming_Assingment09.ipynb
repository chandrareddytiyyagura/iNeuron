{
 "cells": [
  {
   "cell_type": "markdown",
   "id": "2e562c13",
   "metadata": {},
   "source": [
    "## 1.\tWrite a Python program to check if the given number is a Disarium Number?"
   ]
  },
  {
   "cell_type": "code",
   "execution_count": 16,
   "id": "0ff124ce",
   "metadata": {},
   "outputs": [
    {
     "name": "stdout",
     "output_type": "stream",
     "text": [
      "Enter a number : 175\n",
      "Disarium number\n"
     ]
    }
   ],
   "source": [
    "def disarium(n):\n",
    "    s = str(n)\n",
    "    sum = 0\n",
    "    count = 1\n",
    "    for i in range(len(s)):\n",
    "        sum = sum + (int(s[i])**count)\n",
    "        count = count + 1\n",
    "    \n",
    "    if(n==sum):\n",
    "        print(\"Disarium number\")\n",
    "    else:\n",
    "        print(\"Not a Disarium number\")\n",
    "n = int(input(\"Enter a number : \"))\n",
    "disarium(n)"
   ]
  },
  {
   "cell_type": "markdown",
   "id": "c1f62eb8",
   "metadata": {},
   "source": [
    "## 2.\tWrite a Python program to print all disarium numbers between 1 to 100?"
   ]
  },
  {
   "cell_type": "code",
   "execution_count": 17,
   "id": "20614884",
   "metadata": {},
   "outputs": [
    {
     "name": "stdout",
     "output_type": "stream",
     "text": [
      "1 2 3 4 5 6 7 8 9 89 "
     ]
    }
   ],
   "source": [
    "def disarium_range(n1,n2):\n",
    "    for i in range(n1,n2+1):\n",
    "        s = str(i)\n",
    "        sum = 0\n",
    "        count = 1\n",
    "        for j in range(len(s)):\n",
    "            sum = sum + (int(s[j])**count)\n",
    "            count = count + 1\n",
    "        if(i==sum):\n",
    "            print(i,end=' ')\n",
    "disarium_range(1,100)"
   ]
  },
  {
   "cell_type": "markdown",
   "id": "fb56380f",
   "metadata": {},
   "source": [
    "## 3.\tWrite a Python program to check if the given number is Happy Number?"
   ]
  },
  {
   "cell_type": "code",
   "execution_count": 32,
   "id": "10568a10",
   "metadata": {},
   "outputs": [
    {
     "name": "stdout",
     "output_type": "stream",
     "text": [
      "Enter a number : 10\n",
      "10 is a Happy number\n"
     ]
    }
   ],
   "source": [
    "def Happynumber(n):\n",
    "    if n == 1 or n == 7:\n",
    "        return True\n",
    "    Sum, x = n, n\n",
    "    while Sum > 9:\n",
    "        Sum = 0\n",
    "        while x > 0:\n",
    "            d = x % 10\n",
    "            Sum += d * d\n",
    "            x = int(x / 10)\n",
    "         \n",
    "        if Sum == 1:\n",
    "            return True\n",
    "              \n",
    "        x = Sum\n",
    "     \n",
    "    if Sum == 7:\n",
    "        return True\n",
    "          \n",
    "    return False\n",
    " \n",
    "n = int(input(\"Enter a number : \"))\n",
    "      \n",
    "if Happynumber(n):\n",
    "    print(n, \"is a Happy number\")\n",
    "else:\n",
    "    print(n, \"is not a Happy number\")"
   ]
  },
  {
   "cell_type": "markdown",
   "id": "bedf9fb4",
   "metadata": {},
   "source": [
    "## 4.\tWrite a Python program to print all happy numbers between 1 and 100?"
   ]
  },
  {
   "cell_type": "code",
   "execution_count": 31,
   "id": "c4027c10",
   "metadata": {},
   "outputs": [
    {
     "name": "stdout",
     "output_type": "stream",
     "text": [
      "1 7 10 13 19 23 28 31 32 44 49 68 70 79 82 86 91 94 97 "
     ]
    }
   ],
   "source": [
    "def happynumber_range(n):\n",
    "    if n == 1 or n == 7:\n",
    "        return True\n",
    "    Sum, x = n, n\n",
    "    while Sum > 9:\n",
    "        Sum = 0\n",
    "        while x > 0:\n",
    "            d = x % 10\n",
    "            Sum += d * d\n",
    "            x = int(x / 10)\n",
    "         \n",
    "        if Sum == 1:\n",
    "            return True\n",
    "              \n",
    "        x = Sum\n",
    "     \n",
    "    if Sum == 7:\n",
    "        return True\n",
    "          \n",
    "    return False\n",
    "for i in range(1,100):\n",
    "    if happynumber_range(i):\n",
    "        print(i,end=' ')"
   ]
  },
  {
   "cell_type": "markdown",
   "id": "5bcd820a",
   "metadata": {},
   "source": [
    "## 5.\tWrite a Python program to determine whether the given number is a Harshad Number?"
   ]
  },
  {
   "cell_type": "code",
   "execution_count": 35,
   "id": "1ffbc5ca",
   "metadata": {},
   "outputs": [
    {
     "name": "stdout",
     "output_type": "stream",
     "text": [
      "Enter a number : 18\n",
      "Harshad number\n"
     ]
    }
   ],
   "source": [
    "def harshad(n):\n",
    "    t = n\n",
    "    sum = 0\n",
    "    while(n!=0):\n",
    "        r = n % 10\n",
    "        sum = sum + r\n",
    "        n = n // 10\n",
    "    if(t%sum==0):\n",
    "        print(\"Harshad number\")\n",
    "    else:\n",
    "        print(\"Not a harshad number\")\n",
    "    \n",
    "n = int(input(\"Enter a number : \"))\n",
    "harshad(n)"
   ]
  },
  {
   "cell_type": "markdown",
   "id": "3dcf8779",
   "metadata": {},
   "source": [
    "## 6.\tWrite a Python program to print all pronic numbers between 1 and 100?"
   ]
  },
  {
   "cell_type": "code",
   "execution_count": 36,
   "id": "271e0518",
   "metadata": {},
   "outputs": [
    {
     "name": "stdout",
     "output_type": "stream",
     "text": [
      "Pronic numbers between 1 and 100: \n",
      "2 6 12 20 30 42 56 72 90 "
     ]
    }
   ],
   "source": [
    "def PronicNumber(num):\n",
    "    flag = False;      \n",
    "    for j in range(1, num+1):  \n",
    "        if((j*(j+1)) == num):    \n",
    "            flag = True;    \n",
    "            break;    \n",
    "    return flag;       \n",
    "print(\"Pronic numbers between 1 and 100: \");    \n",
    "for i in range(1, 101):    \n",
    "    if(PronicNumber(i)):    \n",
    "        print(i,end=' ')"
   ]
  },
  {
   "cell_type": "code",
   "execution_count": null,
   "id": "32ba333c",
   "metadata": {},
   "outputs": [],
   "source": []
  }
 ],
 "metadata": {
  "kernelspec": {
   "display_name": "Python 3 (ipykernel)",
   "language": "python",
   "name": "python3"
  },
  "language_info": {
   "codemirror_mode": {
    "name": "ipython",
    "version": 3
   },
   "file_extension": ".py",
   "mimetype": "text/x-python",
   "name": "python",
   "nbconvert_exporter": "python",
   "pygments_lexer": "ipython3",
   "version": "3.9.7"
  }
 },
 "nbformat": 4,
 "nbformat_minor": 5
}
