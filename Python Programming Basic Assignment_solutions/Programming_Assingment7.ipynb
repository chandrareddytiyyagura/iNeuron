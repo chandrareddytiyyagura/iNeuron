{
 "cells": [
  {
   "cell_type": "markdown",
   "id": "ddf105a8",
   "metadata": {},
   "source": [
    "## 1.\tWrite a Python Program to find sum of array?"
   ]
  },
  {
   "cell_type": "code",
   "execution_count": 16,
   "id": "f110e765",
   "metadata": {},
   "outputs": [
    {
     "name": "stdout",
     "output_type": "stream",
     "text": [
      "Enter an array elements with space : 1 2 3 4 5\n",
      "Sum of elements in array is :  15\n"
     ]
    }
   ],
   "source": [
    "def sum_list(l):\n",
    "    sum = 0\n",
    "    for i in l:\n",
    "        sum = sum + i\n",
    "    print(\"Sum of elements in array is : \",sum)\n",
    "    \n",
    "l = list(map(int,input(\"Enter an array elements with space : \").split(' ')))\n",
    "sum_list(l)"
   ]
  },
  {
   "cell_type": "markdown",
   "id": "a1c11ab9",
   "metadata": {},
   "source": [
    "## 2.\tWrite a Python Program to find largest element in an array?"
   ]
  },
  {
   "cell_type": "code",
   "execution_count": 7,
   "id": "0ca55f13",
   "metadata": {},
   "outputs": [
    {
     "name": "stdout",
     "output_type": "stream",
     "text": [
      "Enter an array elements with space : 34 56 13 45\n",
      "Max element in the given array is :  56\n"
     ]
    }
   ],
   "source": [
    "def max_ele(l):\n",
    "    max = -123456\n",
    "    for i in l:\n",
    "        if(i>max):\n",
    "            max = i\n",
    "    print(\"Max element in the given array is : \",max)\n",
    "l = map(int,input(\"Enter an array elements with space : \").split(' '))\n",
    "max_ele(l)"
   ]
  },
  {
   "cell_type": "markdown",
   "id": "daa19569",
   "metadata": {},
   "source": [
    "## 3.\tWrite a Python Program for array rotation?"
   ]
  },
  {
   "cell_type": "code",
   "execution_count": 15,
   "id": "e2763f7e",
   "metadata": {},
   "outputs": [
    {
     "name": "stdout",
     "output_type": "stream",
     "text": [
      "Enter an array elements with space : 1 2 3 4 5\n",
      "5 4 3 2 1 "
     ]
    }
   ],
   "source": [
    "def array_rotation(l):\n",
    "    l.reverse()\n",
    "    for i in l:\n",
    "        print(i,end=' ')\n",
    "l = list(map(int,input(\"Enter an array elements with space : \").split(' ')))        \n",
    "array_rotation(l)"
   ]
  },
  {
   "cell_type": "markdown",
   "id": "b2a85e9c",
   "metadata": {},
   "source": [
    "## 4.\tWrite a Python Program to Split the array and add the first part to the end?"
   ]
  },
  {
   "cell_type": "code",
   "execution_count": 27,
   "id": "6909a230",
   "metadata": {},
   "outputs": [
    {
     "name": "stdout",
     "output_type": "stream",
     "text": [
      "Enter an array elements with space : 1 2 3 4 5 6 7\n",
      "Enter the position to split the array(value must be less than or equal to  7 )\n",
      "4\n",
      "Array after modification :  [5, 6, 7, 1, 2, 3, 4]\n"
     ]
    }
   ],
   "source": [
    "def split_array(l,n):\n",
    "    f = l[:n]\n",
    "    s = l[n:]\n",
    "    s.extend(f)\n",
    "    print(\"Array after modification : \",s)\n",
    "l = list(map(int,input(\"Enter an array elements with space : \").split(' '))) \n",
    "print(\"Enter the position to split the array(value must be less than or equal to \",len(l),\")\")\n",
    "n = int(input())\n",
    "split_array(l,n)"
   ]
  },
  {
   "cell_type": "markdown",
   "id": "01027d90",
   "metadata": {},
   "source": [
    "## 5.\tWrite a Python Program to check if given array is Monotonic?"
   ]
  },
  {
   "cell_type": "code",
   "execution_count": 32,
   "id": "97c95bab",
   "metadata": {},
   "outputs": [
    {
     "name": "stdout",
     "output_type": "stream",
     "text": [
      "Enter an array elements with space : 1 2 3 1\n",
      "Given array is not monotonic\n"
     ]
    }
   ],
   "source": [
    "def check_monotonic(l):\n",
    "    count = count2 = 1\n",
    "    for i in range(len(l)-1):\n",
    "        if(l[i]<l[i+1]):\n",
    "            count = count + 1\n",
    "        else:\n",
    "            count2 = count2 + 1\n",
    "    if(count == len(l) or count2 == len(l)):\n",
    "        print(\"Given array is monotonic\")\n",
    "    else:\n",
    "        print(\"Given array is not monotonic\")\n",
    "l = list(map(int,input(\"Enter an array elements with space : \").split(' '))) \n",
    "check_monotonic(l)"
   ]
  },
  {
   "cell_type": "code",
   "execution_count": null,
   "id": "4efc4a32",
   "metadata": {},
   "outputs": [],
   "source": []
  }
 ],
 "metadata": {
  "kernelspec": {
   "display_name": "Python 3 (ipykernel)",
   "language": "python",
   "name": "python3"
  },
  "language_info": {
   "codemirror_mode": {
    "name": "ipython",
    "version": 3
   },
   "file_extension": ".py",
   "mimetype": "text/x-python",
   "name": "python",
   "nbconvert_exporter": "python",
   "pygments_lexer": "ipython3",
   "version": "3.9.7"
  }
 },
 "nbformat": 4,
 "nbformat_minor": 5
}
