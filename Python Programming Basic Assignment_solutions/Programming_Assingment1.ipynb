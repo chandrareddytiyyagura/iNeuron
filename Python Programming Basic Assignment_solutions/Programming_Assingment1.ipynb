{
 "cells": [
  {
   "cell_type": "markdown",
   "id": "e08f6455",
   "metadata": {},
   "source": [
    "## 1.\tWrite a Python program to print \"Hello Python\"?"
   ]
  },
  {
   "cell_type": "code",
   "execution_count": 1,
   "id": "694cf29a",
   "metadata": {},
   "outputs": [
    {
     "name": "stdout",
     "output_type": "stream",
     "text": [
      "Hello Python\n"
     ]
    }
   ],
   "source": [
    "print(\"Hello Python\")"
   ]
  },
  {
   "cell_type": "markdown",
   "id": "d0453fd3",
   "metadata": {},
   "source": [
    "## 2.\tWrite a Python program to do arithmetical operations addition and division.?"
   ]
  },
  {
   "cell_type": "code",
   "execution_count": 3,
   "id": "ec240f29",
   "metadata": {},
   "outputs": [
    {
     "name": "stdout",
     "output_type": "stream",
     "text": [
      "Enter first number : 12\n",
      "Enter second number : 13\n",
      "Addition of two numbers :  25\n",
      "Division of two numbers :  0.9230769230769231\n"
     ]
    }
   ],
   "source": [
    "n1 = int(input(\"Enter first number : \"))\n",
    "n2 = int(input(\"Enter second number : \"))\n",
    "try:\n",
    "    add = n1 + n2\n",
    "    print(\"Addition of two numbers : \",add)\n",
    "    div = n1 / n2\n",
    "    print(\"Division of two numbers : \",div)\n",
    "except:\n",
    "    print(\"Error occured!\")"
   ]
  },
  {
   "cell_type": "markdown",
   "id": "1ce56df2",
   "metadata": {},
   "source": [
    "## 3.\tWrite a Python program to find the area of a triangle?"
   ]
  },
  {
   "cell_type": "code",
   "execution_count": 4,
   "id": "ac294f81",
   "metadata": {},
   "outputs": [
    {
     "name": "stdout",
     "output_type": "stream",
     "text": [
      "Enter breadth of triangle : 10\n",
      "Enter height of triangle : 15\n",
      "Area of the traingle :  75.0\n"
     ]
    }
   ],
   "source": [
    "b = float(input(\"Enter breadth of triangle : \"))\n",
    "h = float(input(\"Enter height of triangle : \"))\n",
    "area = 0.5 * b * h\n",
    "print(\"Area of the traingle : \",area)"
   ]
  },
  {
   "cell_type": "markdown",
   "id": "c2bd143f",
   "metadata": {},
   "source": [
    "## 4.\tWrite a Python program to swap two variables?"
   ]
  },
  {
   "cell_type": "code",
   "execution_count": 5,
   "id": "df6720c4",
   "metadata": {},
   "outputs": [
    {
     "name": "stdout",
     "output_type": "stream",
     "text": [
      "Enter first number : 10\n",
      "Enter second number : 20\n",
      "first number and second number before swapping 10 20 respectively\n",
      "first number and second number after swapping 20 10 respectively\n"
     ]
    }
   ],
   "source": [
    "n1 = int(input(\"Enter first number : \"))\n",
    "n2 = int(input(\"Enter second number : \"))\n",
    "print(\"first number and second number before swapping\",n1,n2,\"respectively\")\n",
    "n1 ,n2 = n2,n1\n",
    "print(\"first number and second number after swapping\",n1,n2,\"respectively\")"
   ]
  },
  {
   "cell_type": "markdown",
   "id": "3a1caa5e",
   "metadata": {},
   "source": [
    "## 5.\tWrite a Python program to generate a random number?"
   ]
  },
  {
   "cell_type": "code",
   "execution_count": 8,
   "id": "66d7d8c1",
   "metadata": {},
   "outputs": [
    {
     "name": "stdout",
     "output_type": "stream",
     "text": [
      "Random number :  6\n"
     ]
    }
   ],
   "source": [
    "import random\n",
    "print(\"Random number : \",random.randint(0,9))"
   ]
  },
  {
   "cell_type": "code",
   "execution_count": null,
   "id": "4cf71fdb",
   "metadata": {},
   "outputs": [],
   "source": []
  }
 ],
 "metadata": {
  "kernelspec": {
   "display_name": "Python 3 (ipykernel)",
   "language": "python",
   "name": "python3"
  },
  "language_info": {
   "codemirror_mode": {
    "name": "ipython",
    "version": 3
   },
   "file_extension": ".py",
   "mimetype": "text/x-python",
   "name": "python",
   "nbconvert_exporter": "python",
   "pygments_lexer": "ipython3",
   "version": "3.9.7"
  }
 },
 "nbformat": 4,
 "nbformat_minor": 5
}
