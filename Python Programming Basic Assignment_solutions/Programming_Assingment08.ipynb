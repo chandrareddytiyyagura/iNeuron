{
 "cells": [
  {
   "cell_type": "markdown",
   "id": "07fd7315",
   "metadata": {},
   "source": [
    "## 1.\tWrite a Python Program to Add Two Matrices?"
   ]
  },
  {
   "cell_type": "code",
   "execution_count": 18,
   "id": "973caba2",
   "metadata": {},
   "outputs": [
    {
     "name": "stdout",
     "output_type": "stream",
     "text": [
      "Enter number of rows in matrix1 : 2\n",
      "Enter number of columns in matrix2 : 2\n",
      "Enter number of rows in matrix2 : 2\n",
      "Enter number of columns in matrix2 : 2\n",
      "Enter first matrix elements by space : 1 2 3 4\n",
      "Enter second matrix elements by space : 1 2 3 4\n",
      "Addition of two materices is : \n",
      "[2 4]\n",
      "[6 8]\n"
     ]
    }
   ],
   "source": [
    "import numpy as np\n",
    "def matrix_add(l1,l2):\n",
    "    result = np.add(l1,l2)\n",
    "    #result = [[l1[i][j] + l2[i][j]  for j in range(len(l1[0]))] for i in range(len(l1))]\n",
    "    print(\"Addition of two materices is : \")\n",
    "    for k in result:\n",
    "        print(k)\n",
    "    \n",
    "r1 = int(input(\"Enter number of rows in matrix1 : \"))\n",
    "c1 = int(input(\"Enter number of columns in matrix2 : \"))\n",
    "r2 = int(input(\"Enter number of rows in matrix2 : \"))\n",
    "c2 = int(input(\"Enter number of columns in matrix2 : \"))\n",
    "l1 = l2 = []\n",
    "if(r1==r2 and c1==c2):\n",
    "    elements = list(map(int, input(\"Enter first matrix elements by space : \").split()))\n",
    "    l1  = np.array(elements).reshape(r1, c1)\n",
    "    elements = list(map(int, input(\"Enter second matrix elements by space : \").split()))\n",
    "    l2  = np.array(elements).reshape(r2, c2)\n",
    "    matrix_add(l1,l2)\n",
    "else:\n",
    "    print(\"Enter matrices are not compatable\")"
   ]
  },
  {
   "cell_type": "markdown",
   "id": "6bba53af",
   "metadata": {},
   "source": [
    "## 2.\tWrite a Python Program to Multiply Two Matrices? "
   ]
  },
  {
   "cell_type": "code",
   "execution_count": 16,
   "id": "040c6d6f",
   "metadata": {},
   "outputs": [
    {
     "name": "stdout",
     "output_type": "stream",
     "text": [
      "Enter number of rows in matrix1 : 2\n",
      "Enter number of columns in matrix2 : 2\n",
      "Enter number of rows in matrix2 : 2\n",
      "Enter number of columns in matrix2 : 2\n",
      "Enter first matrix elements by space : 1 1 1 1\n",
      "Enter second matrix elements by space : 1 1 1 1\n",
      "Multiplication of two materices is : \n",
      "[2 2]\n",
      "[2 2]\n"
     ]
    }
   ],
   "source": [
    "import numpy as np\n",
    "def matrix_mul(l1,l2):\n",
    "    result = np.dot(l1,l2)\n",
    "    print(\"Multiplication of two materices is : \")\n",
    "    for k in result:\n",
    "        print(k)\n",
    "    \n",
    "r1 = int(input(\"Enter number of rows in matrix1 : \"))\n",
    "c1 = int(input(\"Enter number of columns in matrix2 : \"))\n",
    "r2 = int(input(\"Enter number of rows in matrix2 : \"))\n",
    "c2 = int(input(\"Enter number of columns in matrix2 : \"))\n",
    "l1 = l2 = []\n",
    "if(c1==r2):\n",
    "    elements = list(map(int, input(\"Enter first matrix elements by space : \").split()))\n",
    "    l1  = np.array(elements).reshape(r1, c1)\n",
    "    elements = list(map(int, input(\"Enter second matrix elements by space : \").split()))\n",
    "    l2  = np.array(elements).reshape(r2, c2)\n",
    "    matrix_mul(l1,l2)\n",
    "else:\n",
    "    print(\"Enter matrices are not compatable\")"
   ]
  },
  {
   "cell_type": "markdown",
   "id": "7dd1dd3a",
   "metadata": {},
   "source": [
    "## 3.\tWrite a Python Program to Transpose a Matrix?"
   ]
  },
  {
   "cell_type": "code",
   "execution_count": 21,
   "id": "31c83ee3",
   "metadata": {},
   "outputs": [
    {
     "name": "stdout",
     "output_type": "stream",
     "text": [
      "Enter number of rows in matrix1 : 2\n",
      "Enter number of columns in matrix1 : 2\n",
      "Enter first matrix elements by space : 1 2 3 4\n",
      "matrix before transpose : \n",
      " [[1 2]\n",
      " [3 4]]\n",
      "Multiplication of two materices is : \n",
      "[1 3]\n",
      "[2 4]\n"
     ]
    }
   ],
   "source": [
    "import numpy as np\n",
    "def matrix_trans(l1):\n",
    "    result = np.transpose(l1)\n",
    "    print(\"Multiplication of two materices is : \")\n",
    "    for k in result:\n",
    "        print(k)\n",
    "    \n",
    "r1 = int(input(\"Enter number of rows in matrix1 : \"))\n",
    "c1 = int(input(\"Enter number of columns in matrix1 : \"))\n",
    "l1 = l2 = []\n",
    "elements = list(map(int, input(\"Enter first matrix elements by space : \").split()))\n",
    "l1  = np.array(elements).reshape(r1, c1)\n",
    "print(\"matrix before transpose : \\n\",l1)\n",
    "matrix_trans(l1,)"
   ]
  },
  {
   "cell_type": "markdown",
   "id": "0e18d64f",
   "metadata": {},
   "source": [
    "## 4.\tWrite a Python Program to Sort Words in Alphabetic Order?"
   ]
  },
  {
   "cell_type": "code",
   "execution_count": 26,
   "id": "b75dd2c6",
   "metadata": {},
   "outputs": [
    {
     "name": "stdout",
     "output_type": "stream",
     "text": [
      "Enter words to sort : \"iNeuron\" \"Apple\" \"Microsoft\" \"HP\" \"Amazon\" \"Dell\" \"Lenovo\"\n",
      "Sorted Words in alphabetic order :  ['\"Amazon\"', '\"Apple\"', '\"Dell\"', '\"HP\"', '\"Lenovo\"', '\"Microsoft\"', '\"iNeuron\"']\n"
     ]
    }
   ],
   "source": [
    "def sort_words(words):\n",
    "    words.sort()\n",
    "    print(\"Sorted Words in alphabetic order : \",words)\n",
    "words = list(map(str,input(\"Enter words to sort : \").split(' ')))\n",
    "sort_words(words)"
   ]
  },
  {
   "cell_type": "markdown",
   "id": "4ff416b9",
   "metadata": {},
   "source": [
    "## 5.\tWrite a Python Program to Remove Punctuation From a String?"
   ]
  },
  {
   "cell_type": "code",
   "execution_count": 29,
   "id": "4a642e05",
   "metadata": {},
   "outputs": [
    {
     "name": "stdout",
     "output_type": "stream",
     "text": [
      "Enter a string : chandra, reddy- tiyyagura; \n",
      "String after punctuation chandra reddy tiyyagura \n"
     ]
    }
   ],
   "source": [
    "import re\n",
    "def remove_punctuation(string):\n",
    "    res = re.sub(r'[^\\w\\s]', '', string)\n",
    "    print(\"String after punctuation\",res)\n",
    "string = input(\"Enter a string : \")\n",
    "remove_punctuation(string)"
   ]
  },
  {
   "cell_type": "code",
   "execution_count": null,
   "id": "a3db8fd7",
   "metadata": {},
   "outputs": [],
   "source": []
  }
 ],
 "metadata": {
  "kernelspec": {
   "display_name": "Python 3 (ipykernel)",
   "language": "python",
   "name": "python3"
  },
  "language_info": {
   "codemirror_mode": {
    "name": "ipython",
    "version": 3
   },
   "file_extension": ".py",
   "mimetype": "text/x-python",
   "name": "python",
   "nbconvert_exporter": "python",
   "pygments_lexer": "ipython3",
   "version": "3.9.7"
  }
 },
 "nbformat": 4,
 "nbformat_minor": 5
}
