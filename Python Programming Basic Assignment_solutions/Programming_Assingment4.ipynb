{
 "cells": [
  {
   "cell_type": "markdown",
   "id": "cf7b612c",
   "metadata": {},
   "source": [
    "## 1.\tWrite a Python Program to Find the Factorial of a Number?"
   ]
  },
  {
   "cell_type": "code",
   "execution_count": 1,
   "id": "c1210a62",
   "metadata": {},
   "outputs": [
    {
     "name": "stdout",
     "output_type": "stream",
     "text": [
      "Enter a number : 5\n",
      "Factorial of a given number is :  120\n"
     ]
    }
   ],
   "source": [
    "def fact(n):\n",
    "    if n==0:\n",
    "        return 1\n",
    "    else:\n",
    "        return n * fact(n-1)\n",
    "n = int(input(\"Enter a number : \"))\n",
    "print(\"Factorial of a given number is : \",fact(n))"
   ]
  },
  {
   "cell_type": "markdown",
   "id": "84bd47bf",
   "metadata": {},
   "source": [
    "## 2.\tWrite a Python Program to Display the multiplication Table?"
   ]
  },
  {
   "cell_type": "code",
   "execution_count": 4,
   "id": "699b75e4",
   "metadata": {},
   "outputs": [
    {
     "name": "stdout",
     "output_type": "stream",
     "text": [
      "Enter a number that you want to print that table : 11\n",
      "11 * 0 = 0\n",
      "11 * 1 = 11\n",
      "11 * 2 = 22\n",
      "11 * 3 = 33\n",
      "11 * 4 = 44\n",
      "11 * 5 = 55\n",
      "11 * 6 = 66\n",
      "11 * 7 = 77\n",
      "11 * 8 = 88\n",
      "11 * 9 = 99\n",
      "11 * 10 = 110\n"
     ]
    }
   ],
   "source": [
    "def multab(n):\n",
    "    for i in range(11):\n",
    "        print(n,\"*\",i,\"=\",n*i)\n",
    "n = int(input(\"Enter a number that you want to print that table : \"))\n",
    "multab(n)"
   ]
  },
  {
   "cell_type": "markdown",
   "id": "8ea7ef30",
   "metadata": {},
   "source": [
    "## 3.\tWrite a Python Program to Print the Fibonacci sequence?"
   ]
  },
  {
   "cell_type": "code",
   "execution_count": 7,
   "id": "070f9c22",
   "metadata": {},
   "outputs": [
    {
     "name": "stdout",
     "output_type": "stream",
     "text": [
      "Enter a number upto to how many fibonacci numbers you want : 20\n",
      "0 1 1 2 3 5 8 13 21 34 55 89 144 233 377 610 987 1597 2584 4181 6765 "
     ]
    }
   ],
   "source": [
    "def fib(n):\n",
    "    if n==0:\n",
    "        print(\"0\",end=' ')\n",
    "    elif(n<+1):\n",
    "        print(\"0\",end=' ')\n",
    "        print(\"1\",end=' ')\n",
    "    else:\n",
    "        print(\"0\",end=' ')\n",
    "        print(\"1\",end=' ')\n",
    "        a = 0\n",
    "        b = 1\n",
    "        for i in range(2,n+1):\n",
    "            c = a + b\n",
    "            a = b\n",
    "            b = c\n",
    "            print(c,end = ' ')\n",
    "\n",
    "n = int(input(\"Enter a number upto to how many fibonacci numbers you want : \"))\n",
    "fib(n)\n",
    "        "
   ]
  },
  {
   "cell_type": "markdown",
   "id": "476c2353",
   "metadata": {},
   "source": [
    "## 4.\tWrite a Python Program to Check Armstrong Number?"
   ]
  },
  {
   "cell_type": "code",
   "execution_count": 16,
   "id": "059b2932",
   "metadata": {},
   "outputs": [
    {
     "name": "stdout",
     "output_type": "stream",
     "text": [
      "Enter a number : 9494\n",
      "Armstrong number\n"
     ]
    }
   ],
   "source": [
    "def arm(n):\n",
    "    t = n\n",
    "    l = len(str(t))\n",
    "    sum = 0\n",
    "    while(t!=0):\n",
    "        r = t % 10\n",
    "        sum = sum + r ** l\n",
    "        t = t // 10\n",
    "    if n==sum:\n",
    "        print(\"Armstrong number\")\n",
    "    else:\n",
    "        print(\"Not a Armstrong number\")\n",
    "\n",
    "n = int(input(\"Enter a number : \"))\n",
    "arm(153)"
   ]
  },
  {
   "cell_type": "markdown",
   "id": "f6c71d84",
   "metadata": {},
   "source": [
    "## 5.\tWrite a Python Program to Find Armstrong Number in an Interval?"
   ]
  },
  {
   "cell_type": "code",
   "execution_count": 23,
   "id": "13bdc689",
   "metadata": {},
   "outputs": [
    {
     "name": "stdout",
     "output_type": "stream",
     "text": [
      "Enter a first number in the range: 1\n",
      "Eneter a second number in the range : 500\n",
      "1 2 3 4 5 6 7 8 9 153 370 371 407 "
     ]
    }
   ],
   "source": [
    "def arm(n1,n2):\n",
    "    for i in range(n1,n2+1):\n",
    "        t = i\n",
    "        l = len(str(t))\n",
    "        sum = 0\n",
    "        while(t!=0):\n",
    "            r = t % 10\n",
    "            sum = sum + r ** l\n",
    "            t = t // 10\n",
    "        if i==sum:\n",
    "            print(i,end=' ')\n",
    "\n",
    "n1 = int(input(\"Enter a first number in the range: \"))\n",
    "n2 = int(input(\"Eneter a second number in the range : \"))\n",
    "arm(n1,n2)"
   ]
  },
  {
   "cell_type": "code",
   "execution_count": null,
   "id": "11d8e222",
   "metadata": {},
   "outputs": [],
   "source": []
  }
 ],
 "metadata": {
  "kernelspec": {
   "display_name": "Python 3 (ipykernel)",
   "language": "python",
   "name": "python3"
  },
  "language_info": {
   "codemirror_mode": {
    "name": "ipython",
    "version": 3
   },
   "file_extension": ".py",
   "mimetype": "text/x-python",
   "name": "python",
   "nbconvert_exporter": "python",
   "pygments_lexer": "ipython3",
   "version": "3.9.7"
  }
 },
 "nbformat": 4,
 "nbformat_minor": 5
}
