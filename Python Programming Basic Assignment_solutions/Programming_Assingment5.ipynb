{
 "cells": [
  {
   "cell_type": "markdown",
   "id": "9e8ddcdf",
   "metadata": {},
   "source": [
    "## 1.\tWrite a Python Program to Find LCM?"
   ]
  },
  {
   "cell_type": "code",
   "execution_count": 8,
   "id": "1705ff22",
   "metadata": {},
   "outputs": [
    {
     "name": "stdout",
     "output_type": "stream",
     "text": [
      "Enter a first number : 10\n",
      "Enter a second number : 20\n",
      "LCM of given numbers is :  20\n"
     ]
    }
   ],
   "source": [
    "def lcm(n1,n2):\n",
    "    if(n1>n2):\n",
    "        big = n1\n",
    "    else:\n",
    "        big = n2\n",
    "    while(True):\n",
    "        if(big%n1 ==0  and big%n2 ==0):\n",
    "            lcm_res = big\n",
    "            break\n",
    "        big = big + 1\n",
    "    print(\"LCM of given numbers is : \",lcm_res)\n",
    "n1 = int(input(\"Enter a first number : \"))\n",
    "n2 = int(input(\"Enter a second number : \"))\n",
    "lcm(n1,n2)"
   ]
  },
  {
   "cell_type": "markdown",
   "id": "8bf38fc8",
   "metadata": {},
   "source": [
    "## 2.\tWrite a Python Program to Find HCF?"
   ]
  },
  {
   "cell_type": "code",
   "execution_count": 9,
   "id": "963185c1",
   "metadata": {},
   "outputs": [
    {
     "name": "stdout",
     "output_type": "stream",
     "text": [
      "Enter a first number : 10\n",
      "Enter a second number : 20\n",
      "HCF of given numbers is :  10\n"
     ]
    }
   ],
   "source": [
    "def hcf(n1,n2):\n",
    "    if(n1<n2):\n",
    "        small = n1\n",
    "    else:\n",
    "        small = n2\n",
    "    for i in range(1,small+1):\n",
    "        if((n1%i ==0)  and (n2%i ==0)):\n",
    "            hcf_res = i\n",
    "    print(\"HCF of given numbers is : \",hcf_res)\n",
    "n1 = int(input(\"Enter a first number : \"))\n",
    "n2 = int(input(\"Enter a second number : \"))\n",
    "hcf(n1,n2)"
   ]
  },
  {
   "cell_type": "markdown",
   "id": "667d17bb",
   "metadata": {},
   "source": [
    "## 3.\tWrite a Python Program to Convert Decimal to Binary, Octal and Hexadecimal?"
   ]
  },
  {
   "cell_type": "code",
   "execution_count": 14,
   "id": "ebf4f91b",
   "metadata": {},
   "outputs": [
    {
     "name": "stdout",
     "output_type": "stream",
     "text": [
      "Enter a decimal numbet to convert : 21052000\n",
      "Binary number representation of 21052000 is :  1010000010011101001100000\n",
      "Octal number representation of 21052000 is :  120235140\n",
      "Hexadecimal number represntation of 21052000 is :  1413a60\n"
     ]
    }
   ],
   "source": [
    "def BOH(n):\n",
    "    res_binary = bin(n).replace(\"0b\",\"\")\n",
    "    print(\"Binary number representation of\",n,\"is : \",res_binary)\n",
    "    res_octal = oct(n).replace(\"0o\",\"\")\n",
    "    print(\"Octal number representation of\",n,\"is : \",res_octal)\n",
    "    res_hexa = hex(n).replace(\"0x\",\"\")\n",
    "    print(\"Hexadecimal number represntation of\",n,\"is : \",res_hexa)\n",
    "n = int(input(\"Enter a decimal numbet to convert : \"))\n",
    "BOH(n)"
   ]
  },
  {
   "cell_type": "markdown",
   "id": "e23c1aea",
   "metadata": {},
   "source": [
    "## 4.\tWrite a Python Program To Find ASCII value of a character?"
   ]
  },
  {
   "cell_type": "code",
   "execution_count": 16,
   "id": "73effbd6",
   "metadata": {},
   "outputs": [
    {
     "name": "stdout",
     "output_type": "stream",
     "text": [
      "Enter a character to find ascii value : A\n",
      "Ascci value of A is : 65\n"
     ]
    }
   ],
   "source": [
    "def ASCII(c):\n",
    "    print(\"Ascci value of\",c,\"is :\",ord(c))\n",
    "\n",
    "c = input(\"Enter a character to find ascii value : \")\n",
    "ASCII(c)"
   ]
  },
  {
   "cell_type": "markdown",
   "id": "dd308b84",
   "metadata": {},
   "source": [
    "## 5.\tWrite a Python Program to Make a Simple Calculator with 4 basic mathematical operations?"
   ]
  },
  {
   "cell_type": "code",
   "execution_count": 3,
   "id": "866f844c",
   "metadata": {},
   "outputs": [
    {
     "name": "stdout",
     "output_type": "stream",
     "text": [
      "select opeartor\n",
      "1.addition\n",
      "2.subtraction\n",
      "3.multiplication\n",
      "4.division\n",
      "5.remainder\n",
      "6.exit\n",
      "Choose your option1\n",
      "Enter first number : 10\n",
      "Enter second number : 20\n",
      "Addition of given numbers is : 30\n",
      "Choose your option2\n",
      "Enter first number : 10\n",
      "Enter second number : 5\n",
      "Subtraction of given numbers is :  5\n",
      "Choose your option3\n",
      "Enter first number : 3\n",
      "Enter second number : 3\n",
      "Multiplication of given numbers is :  9\n",
      "Choose your option4\n",
      "Enter first number : 5\n",
      "Enter second number : 2\n",
      "Division of given numbers is :  2\n",
      "Choose your option5\n",
      "Enter first number : 20\n",
      "Enter second number : 4\n",
      "Reamainder of given numbers is :  0\n",
      "Choose your option6\n",
      "Thank you, see you again!\n"
     ]
    }
   ],
   "source": [
    "def add(n1,n2):\n",
    "    return n1+n2\n",
    "def sub(n1,n2):\n",
    "    return n1-n2\n",
    "def mul(n1,n2):\n",
    "    return n1*n2\n",
    "def div(n1,n2):\n",
    "    return n1 // n2\n",
    "def rem(n1,n2):\n",
    "    return n1% n2\n",
    "print(\"select opeartor\\n1.addition\\n2.subtraction\\n3.multiplication\\n4.division\\n5.remainder\\n6.exit\")\n",
    "while(True):\n",
    "    c = int(input(\"Choose your option\"))\n",
    "    if(c>0 and c <=6):\n",
    "        if(c!=6):\n",
    "            n1 = int(input(\"Enter first number : \"))\n",
    "            n2 = int(input(\"Enter second number : \"))\n",
    "        if(c==1):\n",
    "            print(\"Addition of given numbers is :\",add(n1,n2))\n",
    "        elif(c==2):\n",
    "            print(\"Subtraction of given numbers is : \",sub(n1,n2))\n",
    "        elif(c==3):\n",
    "            print(\"Multiplication of given numbers is : \",mul(n1,n2))\n",
    "        elif(c==4):\n",
    "            print(\"Division of given numbers is : \",div(n1,n2))\n",
    "        elif(c==5):\n",
    "            print(\"Reamainder of given numbers is : \", rem(n1,n2))\n",
    "        else:\n",
    "            print(\"Thank you, see you again!\")\n",
    "            break\n",
    "    else:\n",
    "        print(\"Please enter a valid option\")\n",
    "            \n",
    "    "
   ]
  },
  {
   "cell_type": "code",
   "execution_count": null,
   "id": "16ff1d4f",
   "metadata": {},
   "outputs": [],
   "source": []
  }
 ],
 "metadata": {
  "kernelspec": {
   "display_name": "Python 3 (ipykernel)",
   "language": "python",
   "name": "python3"
  },
  "language_info": {
   "codemirror_mode": {
    "name": "ipython",
    "version": 3
   },
   "file_extension": ".py",
   "mimetype": "text/x-python",
   "name": "python",
   "nbconvert_exporter": "python",
   "pygments_lexer": "ipython3",
   "version": "3.9.7"
  }
 },
 "nbformat": 4,
 "nbformat_minor": 5
}
