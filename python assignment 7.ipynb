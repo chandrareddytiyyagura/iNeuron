{
 "cells": [
  {
   "cell_type": "markdown",
   "id": "42663eb4",
   "metadata": {},
   "source": [
    "# Problem 1\n",
    "- Write a Python program to check if all dictionaries in a list are empty or not."
   ]
  },
  {
   "cell_type": "code",
   "execution_count": 1,
   "id": "c4418269",
   "metadata": {},
   "outputs": [
    {
     "name": "stdout",
     "output_type": "stream",
     "text": [
      "Enter dictionaries : {},{},{}\n",
      "True\n"
     ]
    }
   ],
   "source": [
    "def dict_check(input_list):\n",
    "    count = 0\n",
    "    for i in input_list:\n",
    "        if(len(i)==0):\n",
    "            count = count + 1\n",
    "    if(count==len(input_list)):\n",
    "        return True\n",
    "    else:\n",
    "        return False\n",
    "\n",
    "input_list = eval(input(\"Enter dictionaries : \"))\n",
    "print(dict_check(input_list))"
   ]
  },
  {
   "cell_type": "code",
   "execution_count": 2,
   "id": "95ea6c02",
   "metadata": {},
   "outputs": [
    {
     "name": "stdout",
     "output_type": "stream",
     "text": [
      "Enter dictionaries : {123,2345},{},{}\n",
      "False\n"
     ]
    }
   ],
   "source": [
    "input_list = eval(input(\"Enter dictionaries : \"))\n",
    "print(dict_check(input_list))"
   ]
  },
  {
   "cell_type": "markdown",
   "id": "4f92e2b6",
   "metadata": {},
   "source": [
    "# Problem 2\n",
    "- Write a Python program to remove duplicates from a list of lists."
   ]
  },
  {
   "cell_type": "code",
   "execution_count": 3,
   "id": "d80f6998",
   "metadata": {},
   "outputs": [
    {
     "name": "stdout",
     "output_type": "stream",
     "text": [
      "Enter list : [[110, 120], [240], [330, 456, 425], [310, 220], [133], [240]]\n",
      "New list : [[110, 120], [133], [240], [310, 220], [330, 456, 425]]\n"
     ]
    }
   ],
   "source": [
    "import itertools\n",
    "def remove_duplicates_from_list_in_list(input_list):\n",
    "    result = []\n",
    "    input_list.sort()\n",
    "    for item,_ in itertools.groupby(input_list):\n",
    "        result.append(item)\n",
    "    return result\n",
    "\n",
    "input_list = eval(input(\"Enter list : \"))\n",
    "print(\"New list : {}\".format(remove_duplicates_from_list_in_list(input_list)))"
   ]
  },
  {
   "cell_type": "markdown",
   "id": "c90f458a",
   "metadata": {},
   "source": [
    "# Problem 3\n",
    "- Write a Python program to extend a list without append."
   ]
  },
  {
   "cell_type": "code",
   "execution_count": 4,
   "id": "4d091e0c",
   "metadata": {},
   "outputs": [
    {
     "name": "stdout",
     "output_type": "stream",
     "text": [
      "Enter list 1 items seperated by space : 10 20 30 40 50\n",
      "Enter list 2 items seperated by space : 60 70 80 90 100\n",
      "New list after append : [10, 20, 30, 40, 50, 60, 70, 80, 90, 100]\n"
     ]
    }
   ],
   "source": [
    "def myappend(input_list1, input_list2):\n",
    "    c = len(input_list1)\n",
    "    input_list1[c:] = input_list2\n",
    "    return input_list1\n",
    "input_list1 = list(map(int,input(\"Enter list 1 items seperated by space : \").split()))\n",
    "input_list2 = list(map(int,input(\"Enter list 2 items seperated by space : \").split()))\n",
    "print(\"New list after append : {}\".format(myappend(input_list1,input_list2)))"
   ]
  },
  {
   "cell_type": "markdown",
   "id": "f5558b96",
   "metadata": {},
   "source": [
    "# Problem 4\n",
    "- Write a Python program to find the list in a list of lists whose sum of elements is the highest"
   ]
  },
  {
   "cell_type": "code",
   "execution_count": 5,
   "id": "8d94e124",
   "metadata": {},
   "outputs": [
    {
     "name": "stdout",
     "output_type": "stream",
     "text": [
      "Enter list : [[1,2,3], [4,5,6], [10,11,12], [7,8,9]]\n",
      "[10, 11, 12]\n"
     ]
    }
   ],
   "source": [
    "def max_list_in_list(input_list):\n",
    "    return max(input_list,key=sum)\n",
    "input_list = eval(input(\"Enter list : \"))\n",
    "print(max_list_in_list(input_list))"
   ]
  },
  {
   "cell_type": "markdown",
   "id": "7ff047b0",
   "metadata": {},
   "source": [
    "# Problem 5\n",
    "- Write a Python program to access dictionary key’s element by index."
   ]
  },
  {
   "cell_type": "code",
   "execution_count": 6,
   "id": "2a22660d",
   "metadata": {},
   "outputs": [
    {
     "name": "stdout",
     "output_type": "stream",
     "text": [
      "Enter dictionary : {'stats': 80, 'math': 90, 'algorithm': 86}\n",
      "stats\n",
      "math\n",
      "algorithm\n"
     ]
    }
   ],
   "source": [
    "def dict_keys_index(input_dict):\n",
    "    for i in range(len(input_dict)):\n",
    "        print(list(input_dict)[i])\n",
    "input_dict = eval(input(\"Enter dictionary : \"))\n",
    "dict_keys_index(input_dict)"
   ]
  },
  {
   "cell_type": "markdown",
   "id": "2dace78a",
   "metadata": {},
   "source": [
    "# Problem 6\n",
    "- Write a Python program to iterate over two lists simultaneously."
   ]
  },
  {
   "cell_type": "code",
   "execution_count": 8,
   "id": "1fbc8040",
   "metadata": {},
   "outputs": [
    {
     "name": "stdout",
     "output_type": "stream",
     "text": [
      "Enter list1 : [10,20,30,40]\n",
      "Enter list2 : ['Ten','Twenty','Thirty','Fourty']\n",
      "10 Ten\n",
      "20 Twenty\n",
      "30 Thirty\n",
      "40 Fourty\n"
     ]
    }
   ],
   "source": [
    "def iterate_over_two_lists(input_list1, input_list2):\n",
    "    for item1, item2 in zip(input_list1, input_list2):\n",
    "        print(item1, item2)\n",
    "input_list1 = eval(input(\"Enter list1 : \"))\n",
    "input_list2 = eval(input(\"Enter list2 : \"))\n",
    "iterate_over_two_lists(input_list1, input_list2)"
   ]
  },
  {
   "cell_type": "markdown",
   "id": "53e0b693",
   "metadata": {},
   "source": [
    "# Problem 7\n",
    "- write a program to insert a string at the begining of every elements in a list"
   ]
  },
  {
   "cell_type": "code",
   "execution_count": 9,
   "id": "760f6d9d",
   "metadata": {},
   "outputs": [
    {
     "name": "stdout",
     "output_type": "stream",
     "text": [
      "Enter list : [10,20,30,40,50]\n",
      "Enter string to insert at begin of list items : iNeuron\n",
      "['iNeuron10', 'iNeuron20', 'iNeuron30', 'iNeuron40', 'iNeuron50']\n"
     ]
    }
   ],
   "source": [
    "def insert_string_atbegin(input_list, input_string):\n",
    "    result = []\n",
    "    for i in input_list:\n",
    "        result.append(\"{}{}\".format(input_string,i))\n",
    "    return result\n",
    "input_list = eval(input(\"Enter list : \"))\n",
    "input_strig = input(\"Enter string to insert at begin of list items : \")\n",
    "print(insert_string_atbegin(input_list, input_strig))"
   ]
  },
  {
   "cell_type": "markdown",
   "id": "ca2c47a1",
   "metadata": {},
   "source": [
    "# Problem 8\n",
    "- write a program to take two lists and print if they have at least one common member"
   ]
  },
  {
   "cell_type": "code",
   "execution_count": 11,
   "id": "9d58ed6b",
   "metadata": {},
   "outputs": [
    {
     "name": "stdout",
     "output_type": "stream",
     "text": [
      "Enter list1 : [10,20,30,40,50,60]\n",
      "Enter list2 : [60,70,80,90]\n",
      "True\n"
     ]
    }
   ],
   "source": [
    "def common_member(input_list1, input_list2):\n",
    "    for item1 in input_list1:\n",
    "        for item2 in input_list2:\n",
    "            if(item1==item2):\n",
    "                return True\n",
    "    return None\n",
    "input_list1 = eval(input(\"Enter list1 : \"))\n",
    "input_list2 = eval(input(\"Enter list2 : \"))\n",
    "print(common_member(input_list1, input_list2))"
   ]
  },
  {
   "cell_type": "markdown",
   "id": "92c89373",
   "metadata": {},
   "source": [
    "# Problem 9\n",
    "- compute all permutations in a list"
   ]
  },
  {
   "cell_type": "code",
   "execution_count": 12,
   "id": "859c3f45",
   "metadata": {},
   "outputs": [
    {
     "name": "stdout",
     "output_type": "stream",
     "text": [
      "Enter list : [10,20,30,40]\n",
      "[(10, 20, 30, 40), (10, 20, 40, 30), (10, 30, 20, 40), (10, 30, 40, 20), (10, 40, 20, 30), (10, 40, 30, 20), (20, 10, 30, 40), (20, 10, 40, 30), (20, 30, 10, 40), (20, 30, 40, 10), (20, 40, 10, 30), (20, 40, 30, 10), (30, 10, 20, 40), (30, 10, 40, 20), (30, 20, 10, 40), (30, 20, 40, 10), (30, 40, 10, 20), (30, 40, 20, 10), (40, 10, 20, 30), (40, 10, 30, 20), (40, 20, 10, 30), (40, 20, 30, 10), (40, 30, 10, 20), (40, 30, 20, 10)]\n"
     ]
    }
   ],
   "source": [
    "import itertools\n",
    "def permutations_list(input_list):\n",
    "    return itertools.permutations(input_list)\n",
    "input_list = eval(input(\"Enter list : \"))\n",
    "print(list(permutations_list(input_list)))"
   ]
  },
  {
   "cell_type": "markdown",
   "id": "71c2d96e",
   "metadata": {},
   "source": [
    "# End of notebook"
   ]
  }
 ],
 "metadata": {
  "kernelspec": {
   "display_name": "Python 3",
   "language": "python",
   "name": "python3"
  },
  "language_info": {
   "codemirror_mode": {
    "name": "ipython",
    "version": 3
   },
   "file_extension": ".py",
   "mimetype": "text/x-python",
   "name": "python",
   "nbconvert_exporter": "python",
   "pygments_lexer": "ipython3",
   "version": "3.8.8"
  }
 },
 "nbformat": 4,
 "nbformat_minor": 5
}
