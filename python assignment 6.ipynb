{
 "cells": [
  {
   "cell_type": "markdown",
   "id": "dbf53947",
   "metadata": {},
   "source": [
    "# Problem 1\n",
    "- Write a Python program to sum all the items in a list"
   ]
  },
  {
   "cell_type": "code",
   "execution_count": 1,
   "id": "f3e09bbf",
   "metadata": {
    "scrolled": true
   },
   "outputs": [
    {
     "name": "stdout",
     "output_type": "stream",
     "text": [
      "Enter list items seperated by space : 1 2 3 4 5 6 7 8 9 10\n",
      "55\n"
     ]
    }
   ],
   "source": [
    "def sum_all_list(input_list):\n",
    "    sum = 0\n",
    "    for item in input_list:\n",
    "        sum = sum + item\n",
    "    return sum\n",
    "input_list = list(map(int,input(\"Enter list items seperated by space : \").split()))\n",
    "print(sum_all_list(input_list))"
   ]
  },
  {
   "cell_type": "markdown",
   "id": "77f036ef",
   "metadata": {},
   "source": [
    "# Problem 2\n",
    "- Write a Python program to count the number of strings where the string length is 2 or more and the first and last character are same from a given list of strings."
   ]
  },
  {
   "cell_type": "code",
   "execution_count": 2,
   "id": "58ac6190",
   "metadata": {},
   "outputs": [
    {
     "name": "stdout",
     "output_type": "stream",
     "text": [
      "Enter strings seperated by space : abc xyz aba bbbbbugvjgvjbbb 12121 aabb\n",
      "3\n"
     ]
    }
   ],
   "source": [
    "def count_strings(input_list):\n",
    "    count = 0\n",
    "    for i in input_list:\n",
    "        if(len(i)>=2 and i[0]==i[-1]):\n",
    "            count = count + 1\n",
    "    return count\n",
    "input_list = list(map(str,input(\"Enter strings seperated by space : \").split()))\n",
    "print(count_strings(input_list))"
   ]
  },
  {
   "cell_type": "markdown",
   "id": "2f12fc6e",
   "metadata": {},
   "source": [
    "# Problem 3\n",
    "- Write a Python program to remove duplicates from a list."
   ]
  },
  {
   "cell_type": "code",
   "execution_count": 4,
   "id": "06220dbf",
   "metadata": {},
   "outputs": [
    {
     "name": "stdout",
     "output_type": "stream",
     "text": [
      "Enter list items seperated by space : 10 20 30 20 10 50 60 40 80 50 40\n",
      "{40, 10, 80, 50, 20, 60, 30}\n"
     ]
    }
   ],
   "source": [
    "def remove_duplicates(input_list):\n",
    "    return set(input_list)\n",
    "input_list = list(map(int,input(\"Enter list items seperated by space : \").split()))\n",
    "print(remove_duplicates(input_list))"
   ]
  },
  {
   "cell_type": "markdown",
   "id": "408fd75b",
   "metadata": {},
   "source": [
    "# End of notebook"
   ]
  }
 ],
 "metadata": {
  "kernelspec": {
   "display_name": "Python 3",
   "language": "python",
   "name": "python3"
  },
  "language_info": {
   "codemirror_mode": {
    "name": "ipython",
    "version": 3
   },
   "file_extension": ".py",
   "mimetype": "text/x-python",
   "name": "python",
   "nbconvert_exporter": "python",
   "pygments_lexer": "ipython3",
   "version": "3.8.8"
  }
 },
 "nbformat": 4,
 "nbformat_minor": 5
}
