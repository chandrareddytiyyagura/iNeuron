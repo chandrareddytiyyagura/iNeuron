{
 "cells": [
  {
   "cell_type": "markdown",
   "id": "1fbacf27",
   "metadata": {},
   "source": [
    "# Problem 1\n",
    "- Write a Pyhton Program(with class concepts) to find the area of the triangle using the below formula.\n",
    "- area = (s(s-a)(s-b)(s-c))**0.5\n",
    "- Function to take the length of the sides of triangle from user should be defined in the parent class and function to calculate the area should be defined in subclass."
   ]
  },
  {
   "cell_type": "code",
   "execution_count": 1,
   "id": "d0f2ff6f",
   "metadata": {},
   "outputs": [
    {
     "name": "stdout",
     "output_type": "stream",
     "text": [
      "Enter 'a' value:3\n",
      "Enter 'b' value:4\n",
      "Enter 'c' value:5\n",
      "18.0\n"
     ]
    }
   ],
   "source": [
    "class Parent:\n",
    "    def __init__(self,a,b,c):\n",
    "        self.a = a\n",
    "        self.b = b\n",
    "        self.c =c\n",
    "a= float(input(\"Enter 'a' value:\"))\n",
    "b= float(input(\"Enter 'b' value:\"))\n",
    "c= float(input(\"Enter 'c' value:\"))\n",
    "\n",
    "class Child(Parent):\n",
    "    def __init__(self,a,b,c):\n",
    "        super().__init__(a,b,c)\n",
    "        \n",
    "    def calculateArea(self):\n",
    "        self.s = (self.a + self.b + self.c )/2\n",
    "        print((self.s*(self.s-self.a)*(self.s-self.b)*(self.s-self.c))*0.5)\n",
    "        \n",
    "\n",
    "x = Child(a,b,c)\n",
    "x.calculateArea()        "
   ]
  },
  {
   "cell_type": "markdown",
   "id": "337bac7f",
   "metadata": {},
   "source": [
    "# Problem 2\n",
    "-Write a function filter_long_words() that takes a list of words and an integer n and returns the list of words that are longer than n."
   ]
  },
  {
   "cell_type": "code",
   "execution_count": 2,
   "id": "ab485c1d",
   "metadata": {},
   "outputs": [
    {
     "name": "stdout",
     "output_type": "stream",
     "text": [
      "Enter list words : chandrareddy iNeuron Python MachineLearning DeepLearning DataScience NLP \n",
      "Enter a number to return a list of words greater than that number : 5\n",
      "['chandrareddy', 'iNeuron', 'Python', 'MachineLearning', 'DeepLearning', 'DataScience']\n"
     ]
    }
   ],
   "source": [
    "class Wordfilter:\n",
    "    def filter_long_words(input_list, n):\n",
    "        result = []\n",
    "        for i in input_list:\n",
    "            if(len(i)>n):\n",
    "                result.append(i)\n",
    "        return result\n",
    "wf = Wordfilter\n",
    "print(wf.filter_long_words(list(map(str,input(\"Enter list words : \").split())),int(input(\"Enter a number to return a list of words greater than that number : \"))))"
   ]
  },
  {
   "cell_type": "markdown",
   "id": "65c23225",
   "metadata": {},
   "source": [
    "# Problem 3\n",
    "- Write a Python program using function concept that maps list of words into a list of integers representing the lengths of the corresponding words.\n",
    "* Hint: If a list [ ab,cde,erty] is passed on to the python function output should come as [2,3,4].Here 2,3 and 4 are the lengths of the words in the list."
   ]
  },
  {
   "cell_type": "code",
   "execution_count": 3,
   "id": "fd9f916d",
   "metadata": {},
   "outputs": [
    {
     "name": "stdout",
     "output_type": "stream",
     "text": [
      "Enter list seperated by ','MachineLearning,DeepLearning,Python,NLP,DataScience\n",
      "[15, 12, 6, 3, 11]\n"
     ]
    }
   ],
   "source": [
    "def calculateLength(input_list):\n",
    "    result = []\n",
    "    for item in input_list:\n",
    "        result.append(len(item))\n",
    "    return result\n",
    "print(calculateLength(list(map(str,input(\"Enter list seperated by ','\").split(',')))))"
   ]
  },
  {
   "cell_type": "markdown",
   "id": "30a46fff",
   "metadata": {},
   "source": [
    "# Problem 4\n",
    "- Write a Python function which takes a character (i.e. a string of length 1) and returns True if it is a vowel, False otherwise."
   ]
  },
  {
   "cell_type": "code",
   "execution_count": 5,
   "id": "518dda3d",
   "metadata": {},
   "outputs": [
    {
     "name": "stdout",
     "output_type": "stream",
     "text": [
      "Enter a string of length 1 : I\n",
      "True\n"
     ]
    }
   ],
   "source": [
    "def vowelCheck(c):\n",
    "    vl = ['a','e','i','o','u']\n",
    "    c = c.lower()\n",
    "    if(c in vl):\n",
    "        return True\n",
    "    else:\n",
    "        return False\n",
    "print(vowelCheck(input('Enter a string of length 1 : ')))"
   ]
  },
  {
   "cell_type": "code",
   "execution_count": null,
   "id": "5ee10fa4",
   "metadata": {},
   "outputs": [],
   "source": []
  }
 ],
 "metadata": {
  "kernelspec": {
   "display_name": "Python 3",
   "language": "python",
   "name": "python3"
  },
  "language_info": {
   "codemirror_mode": {
    "name": "ipython",
    "version": 3
   },
   "file_extension": ".py",
   "mimetype": "text/x-python",
   "name": "python",
   "nbconvert_exporter": "python",
   "pygments_lexer": "ipython3",
   "version": "3.8.8"
  }
 },
 "nbformat": 4,
 "nbformat_minor": 5
}
