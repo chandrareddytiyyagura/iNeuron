{
 "cells": [
  {
   "cell_type": "markdown",
   "id": "b3cbbc8e",
   "metadata": {},
   "source": [
    "## 1.\tWhat is a git stash list?"
   ]
  },
  {
   "cell_type": "markdown",
   "id": "0aa84022",
   "metadata": {},
   "source": [
    "- This command lists all stashed changesets."
   ]
  },
  {
   "cell_type": "markdown",
   "id": "2de11867",
   "metadata": {},
   "source": [
    "## 2.\tHow do you get a list of all the files that have been updated in a given commit?"
   ]
  },
  {
   "cell_type": "markdown",
   "id": "150930ac",
   "metadata": {},
   "source": [
    "- $git status"
   ]
  },
  {
   "cell_type": "markdown",
   "id": "47c3cf38",
   "metadata": {},
   "source": [
    "## 3.\tWhat is a Git merge conflict?"
   ]
  },
  {
   "cell_type": "markdown",
   "id": "69ad894d",
   "metadata": {},
   "source": [
    "- A conflict arises when two separate branches have made edits to the same line in a file, or when a file has been deleted in one branch but edited in the other. "
   ]
  },
  {
   "cell_type": "markdown",
   "id": "02a0231d",
   "metadata": {},
   "source": [
    "## 4.\tHow do you distinguish between git fetch and git pull? How do you differentiate between Git Merge and Git Rebase?"
   ]
  },
  {
   "cell_type": "markdown",
   "id": "bc89c639",
   "metadata": {},
   "source": [
    "- git fetch is the command that tells your local git to retrieve the latest meta-data info from the original (yet doesn’t do any file transferring. It’s more like just checking to see if there are any changes available).\n",
    "\n",
    "- git pull on the other hand does that AND brings (copy) those changes from the remote repository.\n",
    "\n",
    "- Git Rebase\n",
    "    - Streamlines a potentially complex history.\n",
    "    - Avoids merge commit “noise” in busy repos with busy branches.\n",
    "    - Cleans intermediate commits by making them a single commit, which can be helpful for DevOps teams.\n",
    "- Git Merge\n",
    "    - Simple and familiar.\n",
    "    - Preserves complete history and chronological order.\n",
    "    - Maintains the context of the branch."
   ]
  },
  {
   "cell_type": "markdown",
   "id": "7b7535e8",
   "metadata": {},
   "source": [
    "## 5.\tWhat command uploads any GitHub repository to your computer using the git command?"
   ]
  },
  {
   "cell_type": "markdown",
   "id": "e5c03694",
   "metadata": {},
   "source": [
    "1) git init\n",
    "\n",
    "2) git add .\n",
    "\n",
    "3) git commit -m \"All files added\"\n",
    "\n",
    "4) git remote add origin https://github.com/yourusername/your-repo-name.git\n",
    "\n",
    "5) git pull origin master\n",
    "\n",
    "6) git push origin master"
   ]
  },
  {
   "cell_type": "markdown",
   "id": "fcf40192",
   "metadata": {},
   "source": [
    "## 6.\tHow do you write a commit message using the command? How do you push code in GitHub?"
   ]
  },
  {
   "cell_type": "markdown",
   "id": "7bdb62b2",
   "metadata": {},
   "source": [
    "$git commit -m \"Changes done\"\n",
    "\n",
    "$git push origin master"
   ]
  },
  {
   "cell_type": "markdown",
   "id": "5a2c6f49",
   "metadata": {},
   "source": [
    "## 7.\tHow do you make a Git repository?"
   ]
  },
  {
   "cell_type": "markdown",
   "id": "2ef94c72",
   "metadata": {},
   "source": [
    "1)In the upper-right corner of any page, use the  drop-down menu, and select New repository.\n",
    "     <img src=\"new_repo.png\" >\n",
    "     \n",
    "2)Type a short, memorable name for your repository. For example, \"demo\".\n",
    "    <img src=\"repo_name.png\">\n",
    "\n",
    "3)Optionally, add a description of your repository. For example, \"this is a demo repository\".\n",
    "    <img src=\"description.png\">\n",
    "\n",
    "4)Choose a repository visibility.\n",
    "    <img src=\"public_private.png\">\n",
    "\n",
    "5)Select Initialize this repository with a README.\n",
    "    <img src=\"readme.png\">\n",
    "\n",
    "6)Click Create repository.\n",
    "    <img src=\"create_repo.png\">"
   ]
  },
  {
   "cell_type": "markdown",
   "id": "6bbb2ea8",
   "metadata": {},
   "source": [
    "## 8.\tWhat is Git, and how does it work?"
   ]
  },
  {
   "cell_type": "markdown",
   "id": "0643a720",
   "metadata": {},
   "source": [
    "- Git is a DevOps tool used for source code management.\n",
    "- Git finds that commit object by its hash, then it gets the tree hash from the commit object.By that hash value value it know whether any modifications are done sre not."
   ]
  },
  {
   "cell_type": "code",
   "execution_count": null,
   "id": "f6289720",
   "metadata": {},
   "outputs": [],
   "source": []
  }
 ],
 "metadata": {
  "kernelspec": {
   "display_name": "Python 3 (ipykernel)",
   "language": "python",
   "name": "python3"
  },
  "language_info": {
   "codemirror_mode": {
    "name": "ipython",
    "version": 3
   },
   "file_extension": ".py",
   "mimetype": "text/x-python",
   "name": "python",
   "nbconvert_exporter": "python",
   "pygments_lexer": "ipython3",
   "version": "3.9.7"
  }
 },
 "nbformat": 4,
 "nbformat_minor": 5
}
