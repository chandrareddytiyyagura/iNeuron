{
 "cells": [
  {
   "cell_type": "markdown",
   "id": "8eacd486",
   "metadata": {},
   "source": [
    "## 1.\tWhat does the command 'git status' do?"
   ]
  },
  {
   "cell_type": "markdown",
   "id": "39db81e3",
   "metadata": {},
   "source": [
    "- The git status command displays the state of the working directory and the staging area. It lets you see which changes have been staged, which haven't, and which files aren't being tracked by Git."
   ]
  },
  {
   "cell_type": "markdown",
   "id": "441ad778",
   "metadata": {},
   "source": [
    "## 2.\tHow to delete a Git local branch?"
   ]
  },
  {
   "cell_type": "markdown",
   "id": "9f3f3650",
   "metadata": {},
   "source": [
    "$ git branch -d <branch_name>\n",
    "\n",
    "$ git branch -D <branch_name>"
   ]
  },
  {
   "cell_type": "markdown",
   "id": "826a1bf7",
   "metadata": {},
   "source": [
    "## 3.\tHow can I add a project to Git that already exists?"
   ]
  },
  {
   "cell_type": "markdown",
   "id": "1f49084b",
   "metadata": {},
   "source": [
    "- git init\n",
    "- git add .\n",
    "- git commit -m \"my commit\"\n",
    "- git remote set-url origin git@github.com:[username/repo.git]\n",
    "- git push origin master"
   ]
  },
  {
   "cell_type": "markdown",
   "id": "a7352ee9",
   "metadata": {},
   "source": [
    "## 4.\tWhat exactly is a Git fork? What are the distinctions between a fork, a branch, and a clone? "
   ]
  },
  {
   "cell_type": "markdown",
   "id": "d1d8013f",
   "metadata": {},
   "source": [
    "-  A fork is a copy of a repository that you manage.\n",
    "\n",
    "- Forking creates a full copy of your repository\n",
    "- branching only adds a branch to your exiting tree. \n",
    "- when you clone a repository, the repository is copied on to your local machine with the help of Git."
   ]
  },
  {
   "cell_type": "markdown",
   "id": "3df34b32",
   "metadata": {},
   "source": [
    "## 5.\tWhat is the difference between HEAD, working tree, and index in GIT? "
   ]
  },
  {
   "cell_type": "markdown",
   "id": "b39810de",
   "metadata": {},
   "source": [
    "- **Working trees:** They are nothing but the files that you are currently working on.\n",
    "\n",
    "- **HEAD:** HEAD is a pointer to the branch or commit that you last checked out, and which will be the parent of a new commit if you make it. For example, if you're on the master branch, then HEAD will be pointing to master, and when you commit, that new commit will be a descendant of the revision that your master pointed to, and master will be updated to point to the new commit.\n",
    "\n",
    "- **Index:** The git \"index\" is where you place files you want commit to the git repository.The index is a staging area where the new commit is prepared. Essentially, the contents of the index are what will go into the new commit (though if you do git commit -a, this will automatically add all changes to files that Git knows about to the index before committing, so it will commit the current contents of your working tree). The command git add will add or update files from the working tree into your index.  "
   ]
  },
  {
   "cell_type": "markdown",
   "id": "ca38d798",
   "metadata": {},
   "source": [
    "## 6.\tWhich GIT command is used to change branches?"
   ]
  },
  {
   "cell_type": "markdown",
   "id": "27dc20bf",
   "metadata": {},
   "source": [
    "- git switch master\n",
    "        - or \n",
    "- git checkout -b [branch_name]"
   ]
  },
  {
   "cell_type": "markdown",
   "id": "a09287cd",
   "metadata": {},
   "source": [
    "## 7.\tWhat is the difference between GitHub and Git?"
   ]
  },
  {
   "cell_type": "markdown",
   "id": "e32a035f",
   "metadata": {},
   "source": [
    "- GitHub\n",
    "    - GitHub is a service\n",
    "    - GitHub is hosted on the web\n",
    "    - Provides a desktop interface called GitHub Desktop.\n",
    "    - Provides built-in user management\n",
    "\n",
    "- Git\n",
    "    - Git is a software\n",
    "    - Git can be installed locally on the system\n",
    "    - Provides a desktop interface called git GUI\n",
    "    - It does not support user management features"
   ]
  },
  {
   "cell_type": "markdown",
   "id": "adcb1c90",
   "metadata": {},
   "source": [
    "## 8.\tWhat are some of the advantages of using the Variation Control System? Which programming language is used in Git?"
   ]
  },
  {
   "cell_type": "markdown",
   "id": "893396fe",
   "metadata": {},
   "source": [
    "- c programming language is use din git"
   ]
  },
  {
   "cell_type": "markdown",
   "id": "7cfe8171",
   "metadata": {},
   "source": [
    "## 9.\tList out some Git repository features."
   ]
  },
  {
   "cell_type": "markdown",
   "id": "72a548e9",
   "metadata": {},
   "source": [
    "- Tracks history\n",
    "- Free and open source\n",
    "- Supports non-linear development\n",
    "- Creates backups\n",
    "- Scalable\n",
    "- Supports collaboration\n",
    "- Branching is easier\n",
    "- Distributed developmen"
   ]
  },
  {
   "cell_type": "code",
   "execution_count": null,
   "id": "0a00feea",
   "metadata": {},
   "outputs": [],
   "source": []
  }
 ],
 "metadata": {
  "kernelspec": {
   "display_name": "Python 3 (ipykernel)",
   "language": "python",
   "name": "python3"
  },
  "language_info": {
   "codemirror_mode": {
    "name": "ipython",
    "version": 3
   },
   "file_extension": ".py",
   "mimetype": "text/x-python",
   "name": "python",
   "nbconvert_exporter": "python",
   "pygments_lexer": "ipython3",
   "version": "3.9.7"
  }
 },
 "nbformat": 4,
 "nbformat_minor": 5
}
