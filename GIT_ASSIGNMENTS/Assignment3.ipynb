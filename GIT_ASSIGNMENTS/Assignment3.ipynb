{
 "cells": [
  {
   "cell_type": "markdown",
   "id": "7a8e53b4",
   "metadata": {},
   "source": [
    "## 1.\tWhat is git stockpile, and how does it work? How do you use it?"
   ]
  },
  {
   "cell_type": "markdown",
   "id": "188fbd36",
   "metadata": {},
   "source": [
    "- Stockpile supports the durable storage and retrieval of data. After storage, stockpile returns an entry that can be used to access the data later, and when no longer needed, the data can be atomically discarded.\n",
    "\n",
    "$stockpile server -dev\n",
    "\n",
    "$stockpile status"
   ]
  },
  {
   "cell_type": "markdown",
   "id": "ebe90404",
   "metadata": {},
   "source": [
    "## 2.\tDescribe the various branching strategies."
   ]
  },
  {
   "cell_type": "markdown",
   "id": "b5dbbece",
   "metadata": {},
   "source": [
    "- GIT FLOW\n",
    "- GITHUB FLOW\n",
    "- GITLAB FLOW"
   ]
  },
  {
   "cell_type": "markdown",
   "id": "c71ea841",
   "metadata": {},
   "source": [
    "## 3.\tHow do you remove data from Git without being removed from your system?"
   ]
  },
  {
   "cell_type": "markdown",
   "id": "7b6cd51c",
   "metadata": {},
   "source": [
    "- So, for a single file:\n",
    "    - $git rm --cached mylogfile.log\n",
    "- for a single directory:\n",
    "\n",
    "    - $git rm --cached -r mydirectory"
   ]
  },
  {
   "cell_type": "markdown",
   "id": "986ad2bb",
   "metadata": {},
   "source": [
    "## 4.\tIn Git, what does 'index' or 'hosting location' mean?"
   ]
  },
  {
   "cell_type": "markdown",
   "id": "d4afc2d4",
   "metadata": {},
   "source": [
    "- The git \"index\" is where you place files you want commit to the git repository."
   ]
  },
  {
   "cell_type": "markdown",
   "id": "368dda63",
   "metadata": {},
   "source": [
    "## 5.\tWhat is the difference between 'git remote' and 'git duplicate'?"
   ]
  },
  {
   "cell_type": "markdown",
   "id": "9e390cfb",
   "metadata": {},
   "source": [
    "- git remote is used to refer to a remote repository or your central repository.\n",
    "- git clone is used to copy or clone a different repository."
   ]
  },
  {
   "cell_type": "markdown",
   "id": "cc4de9e6",
   "metadata": {},
   "source": [
    "## 6.\tWhat is Git Remote's purpose?"
   ]
  },
  {
   "cell_type": "markdown",
   "id": "008302bf",
   "metadata": {},
   "source": [
    "- The purpose of a remote is to publish your code to the world (or to some people) and allow them to read or write it."
   ]
  },
  {
   "cell_type": "markdown",
   "id": "c3dc8d9d",
   "metadata": {},
   "source": [
    "## 7.\tHow can I clear up a git reflog?"
   ]
  },
  {
   "cell_type": "markdown",
   "id": "1ceeb3d7",
   "metadata": {},
   "source": [
    "- $git reflog expire --expire-unreachable=now --all\n",
    "\n",
    "- $git gc --prune=now\n",
    "\n",
    "    - git reflog expire --expire-unreachable=now --all removes all references of unreachable commits in reflog.\n",
    "\n",
    "    - git gc --prune=now removes the commits themselves."
   ]
  },
  {
   "cell_type": "markdown",
   "id": "62b02e90",
   "metadata": {},
   "source": [
    "## 8.\tHow can you distinguish between the git pull and git bring commands?"
   ]
  },
  {
   "cell_type": "markdown",
   "id": "85131ad7",
   "metadata": {},
   "source": [
    "- git fetch is the command that tells your local git to retrieve the latest meta-data info from the original.\n"
   ]
  },
  {
   "cell_type": "code",
   "execution_count": null,
   "id": "62d8b344",
   "metadata": {},
   "outputs": [],
   "source": []
  }
 ],
 "metadata": {
  "kernelspec": {
   "display_name": "Python 3 (ipykernel)",
   "language": "python",
   "name": "python3"
  },
  "language_info": {
   "codemirror_mode": {
    "name": "ipython",
    "version": 3
   },
   "file_extension": ".py",
   "mimetype": "text/x-python",
   "name": "python",
   "nbconvert_exporter": "python",
   "pygments_lexer": "ipython3",
   "version": "3.9.7"
  }
 },
 "nbformat": 4,
 "nbformat_minor": 5
}
