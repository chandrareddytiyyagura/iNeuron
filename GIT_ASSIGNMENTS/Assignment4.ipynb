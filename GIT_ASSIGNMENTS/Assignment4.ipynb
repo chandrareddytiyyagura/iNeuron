{
 "cells": [
  {
   "cell_type": "markdown",
   "id": "22059291",
   "metadata": {},
   "source": [
    "## 1.\tHow can new features be added to the main branch? What is a git conflict?"
   ]
  },
  {
   "cell_type": "markdown",
   "id": "270b761b",
   "metadata": {},
   "source": [
    "- By rasing a pull requests and then admin verifies that new features then it will be merged with main brach.\n",
    "- A conflict arises when two separate branches have made edits to the same line in a file, or when a file has been deleted in one branch but edited in the other."
   ]
  },
  {
   "cell_type": "markdown",
   "id": "e0677d64",
   "metadata": {},
   "source": [
    "## 2.\tHow do I remove a branch from GIT?"
   ]
  },
  {
   "cell_type": "markdown",
   "id": "43697974",
   "metadata": {},
   "source": [
    "- $git branch -d [brachname] "
   ]
  },
  {
   "cell_type": "markdown",
   "id": "67bf224b",
   "metadata": {},
   "source": [
    "## 3.\tWhat is the purpose of the git checkout command?"
   ]
  },
  {
   "cell_type": "markdown",
   "id": "f506395b",
   "metadata": {},
   "source": [
    "- The git checkout command lets you navigate between the branches created by git branch."
   ]
  },
  {
   "cell_type": "markdown",
   "id": "8674abcd",
   "metadata": {},
   "source": [
    "## 4.\tWhat is the purpose of the git commit command?"
   ]
  },
  {
   "cell_type": "markdown",
   "id": "d7c8b5a1",
   "metadata": {},
   "source": [
    "- The git commit command captures a snapshot of the project's currently staged changes. "
   ]
  },
  {
   "cell_type": "markdown",
   "id": "bb2e8a68",
   "metadata": {},
   "source": [
    "## 5.\tWhat is the purpose of the command 'git rm'?"
   ]
  },
  {
   "cell_type": "markdown",
   "id": "36ca2167",
   "metadata": {},
   "source": [
    "- The git rm command can be used to remove individual files or a collection of files"
   ]
  },
  {
   "cell_type": "markdown",
   "id": "8c318a55",
   "metadata": {},
   "source": [
    "## 6.\tWhat is the purpose of the git log command?"
   ]
  },
  {
   "cell_type": "markdown",
   "id": "683fc39a",
   "metadata": {},
   "source": [
    "- The git log command displays all of the commits in a repository's history."
   ]
  },
  {
   "cell_type": "markdown",
   "id": "bdf2ba97",
   "metadata": {},
   "source": [
    "## 7.\tWhat is the purpose of 'git add'?"
   ]
  },
  {
   "cell_type": "markdown",
   "id": "8f10d896",
   "metadata": {},
   "source": [
    "- The git add command adds a change in the working directory to the staging area."
   ]
  },
  {
   "cell_type": "markdown",
   "id": "635e24e7",
   "metadata": {},
   "source": [
    "## 8.\tIn GIT, what is a 'bare repository'?"
   ]
  },
  {
   "cell_type": "markdown",
   "id": "bff76b37",
   "metadata": {},
   "source": [
    "- A bare repository is the same as default, but no commits can be made in a bare repository. The changes made in projects cannot be tracked by a bare repository as it doesn't have a working tree."
   ]
  },
  {
   "cell_type": "markdown",
   "id": "e3e3f248",
   "metadata": {},
   "source": [
    "## 9.\tWhat's the difference between git remote and git clone?"
   ]
  },
  {
   "cell_type": "markdown",
   "id": "e70aac04",
   "metadata": {},
   "source": [
    "- git remote is used to refer to a remote repository or your central repository.\n",
    "- git clone is used to copy or clone a different repository."
   ]
  },
  {
   "cell_type": "code",
   "execution_count": null,
   "id": "176266f7",
   "metadata": {},
   "outputs": [],
   "source": []
  }
 ],
 "metadata": {
  "kernelspec": {
   "display_name": "Python 3 (ipykernel)",
   "language": "python",
   "name": "python3"
  },
  "language_info": {
   "codemirror_mode": {
    "name": "ipython",
    "version": 3
   },
   "file_extension": ".py",
   "mimetype": "text/x-python",
   "name": "python",
   "nbconvert_exporter": "python",
   "pygments_lexer": "ipython3",
   "version": "3.9.7"
  }
 },
 "nbformat": 4,
 "nbformat_minor": 5
}
