{
 "cells": [
  {
   "cell_type": "markdown",
   "id": "8e609ce8",
   "metadata": {},
   "source": [
    "## 1.\tHow to jump to a particular line in a file using vim editor?"
   ]
  },
  {
   "cell_type": "markdown",
   "id": "67077295",
   "metadata": {},
   "source": [
    "$ vim +\\<line number> \\<filename>"
   ]
  },
  {
   "cell_type": "markdown",
   "id": "10ddf3fe",
   "metadata": {},
   "source": [
    "## 2.\tHow do you sort the entries in a text file in ascending order?"
   ]
  },
  {
   "cell_type": "markdown",
   "id": "bb5f8970",
   "metadata": {},
   "source": [
    "This can be done using the sort command.\n",
    "\n",
    "$ sort ineuron.txt\n",
    "<img src=\"sort_file.png\">"
   ]
  },
  {
   "cell_type": "markdown",
   "id": "0d2eecab",
   "metadata": {},
   "source": [
    "## 3.\tWhat is the export command used for?"
   ]
  },
  {
   "cell_type": "markdown",
   "id": "2a68e04b",
   "metadata": {},
   "source": [
    "The export command is used to set and reload the environment variables. For example, if you want to set the Virtual box path, then the command would be:\n",
    "\n",
    "$ export VBOX_MSI_INSTALL_PATH = C:\\Program Files\\Oracle\\VirtualBox\\"
   ]
  },
  {
   "cell_type": "markdown",
   "id": "bc813484",
   "metadata": {},
   "source": [
    "## 4.\tHow do you check if a particular service is running?"
   ]
  },
  {
   "cell_type": "markdown",
   "id": "a4184a1c",
   "metadata": {},
   "source": [
    "$ service <servicename> status\n",
    "<img src=\"service_one.png\">"
   ]
  },
  {
   "cell_type": "markdown",
   "id": "97a05497",
   "metadata": {},
   "source": [
    "## 5.\tHow do you check the status of all the services"
   ]
  },
  {
   "cell_type": "markdown",
   "id": "3ec4bff0",
   "metadata": {},
   "source": [
    "$ service --status-all\n",
    "<img src=\"service_all.png\">"
   ]
  },
  {
   "cell_type": "markdown",
   "id": "66ca99cf",
   "metadata": {},
   "source": [
    "## 6.\tHow do you start and stop a service?"
   ]
  },
  {
   "cell_type": "markdown",
   "id": "a306a28a",
   "metadata": {},
   "source": [
    "STRAT\n",
    "----\n",
    "$ service \\<servicename> start\n",
    "\n",
    "STOP\n",
    "----\n",
    "$ service \\<servicename> stop\n",
    "\n",
    "<img src=\"service_start_stop.png\">"
   ]
  },
  {
   "cell_type": "markdown",
   "id": "7ef3ef7d",
   "metadata": {},
   "source": [
    "## 7.\tExplain the free command."
   ]
  },
  {
   "cell_type": "markdown",
   "id": "115c04f9",
   "metadata": {},
   "source": [
    "This command is used to display the free, used, swap memory available in the system. \n",
    "\n",
    "Typical free command output. The output is displayed in bytes.\n",
    "\n",
    "$ free\n",
    "<img src=\"free.png\">"
   ]
  },
  {
   "cell_type": "markdown",
   "id": "e37d9932",
   "metadata": {},
   "source": [
    "## 8.\tExplain chmod command"
   ]
  },
  {
   "cell_type": "markdown",
   "id": "a1d31050",
   "metadata": {},
   "source": [
    "- The Linux command chmod allows you to control exactly who is able to read, edit, or run your files. Chmod is an abbreviation for change mode."
   ]
  },
  {
   "cell_type": "markdown",
   "id": "cb7c0f11",
   "metadata": {},
   "source": [
    "## 9.\tExplain grep command"
   ]
  },
  {
   "cell_type": "markdown",
   "id": "1b55b9ae",
   "metadata": {},
   "source": [
    "- grep stands for Global Regular Expression Print. The grep command is used to search for a text in a file by pattern matching based on regular expression.\n",
    "    - Syntax: \n",
    "        - grep [options] pattern [files]\n",
    "\n",
    "    - Example:\n",
    "        - $ grep -c \"ineuron\" sample.txt"
   ]
  },
  {
   "cell_type": "markdown",
   "id": "a86eae1c",
   "metadata": {},
   "source": [
    "## 10.\tWhat is the use of nano editor?"
   ]
  },
  {
   "cell_type": "markdown",
   "id": "5610b7c3",
   "metadata": {},
   "source": [
    "- GNU nano is an easy to use command line text editor for Unix and Linux operating systems. It includes all the basic functionality you'd expect from a regular text editor, like syntax highlighting, multiple buffers, search and replace with regular expression support, spellchecking, UTF-8 encoding."
   ]
  },
  {
   "cell_type": "markdown",
   "id": "9cc63b58",
   "metadata": {},
   "source": []
  }
 ],
 "metadata": {
  "kernelspec": {
   "display_name": "Python 3 (ipykernel)",
   "language": "python",
   "name": "python3"
  },
  "language_info": {
   "codemirror_mode": {
    "name": "ipython",
    "version": 3
   },
   "file_extension": ".py",
   "mimetype": "text/x-python",
   "name": "python",
   "nbconvert_exporter": "python",
   "pygments_lexer": "ipython3",
   "version": "3.9.7"
  }
 },
 "nbformat": 4,
 "nbformat_minor": 5
}
