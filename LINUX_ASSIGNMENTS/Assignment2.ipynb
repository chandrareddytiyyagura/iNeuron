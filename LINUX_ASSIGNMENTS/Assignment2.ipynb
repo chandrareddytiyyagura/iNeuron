{
 "cells": [
  {
   "cell_type": "markdown",
   "id": "919c370e",
   "metadata": {},
   "source": [
    "## 1.\tWhat are inode and process id?"
   ]
  },
  {
   "cell_type": "markdown",
   "id": "bf56ce8f",
   "metadata": {},
   "source": [
    "- An inode is an index node. It serves as a unique identifier for a specific piece of metadata on a given filesystem. Each piece of metadata describes what we think of as a file. That's right, inodes operate on each filesystem, independent of the others.\n",
    "- Process identifier, also known as process ID or PID, is a unique number to identify each process running in an operating system such as Linux, Windows, and Unix. PIDs are reused over time and can only identify a process during the lifetime of the process, so it does not identify processes that are no longer running."
   ]
  },
  {
   "cell_type": "markdown",
   "id": "1eb0cfc1",
   "metadata": {},
   "source": [
    "## 2.\tWhich are the Linux Directory Commands?"
   ]
  },
  {
   "cell_type": "code",
   "execution_count": null,
   "id": "ddafe569",
   "metadata": {},
   "outputs": [],
   "source": []
  }
 ],
 "metadata": {
  "kernelspec": {
   "display_name": "Python 3 (ipykernel)",
   "language": "python",
   "name": "python3"
  },
  "language_info": {
   "codemirror_mode": {
    "name": "ipython",
    "version": 3
   },
   "file_extension": ".py",
   "mimetype": "text/x-python",
   "name": "python",
   "nbconvert_exporter": "python",
   "pygments_lexer": "ipython3",
   "version": "3.9.7"
  }
 },
 "nbformat": 4,
 "nbformat_minor": 5
}
