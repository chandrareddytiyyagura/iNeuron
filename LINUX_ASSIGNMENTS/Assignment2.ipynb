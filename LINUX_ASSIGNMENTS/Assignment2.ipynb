{
 "cells": [
  {
   "cell_type": "markdown",
   "id": "919c370e",
   "metadata": {},
   "source": [
    "## 1.\tWhat are inode and process id?"
   ]
  },
  {
   "cell_type": "markdown",
   "id": "bf56ce8f",
   "metadata": {},
   "source": [
    "- An inode is an index node. It serves as a unique identifier for a specific piece of metadata on a given filesystem. Each piece of metadata describes what we think of as a file. That's right, inodes operate on each filesystem, independent of the others.\n",
    "- Process identifier, also known as process ID or PID, is a unique number to identify each process running in an operating system such as Linux, Windows, and Unix. PIDs are reused over time and can only identify a process during the lifetime of the process, so it does not identify processes that are no longer running."
   ]
  },
  {
   "cell_type": "markdown",
   "id": "1eb0cfc1",
   "metadata": {},
   "source": [
    "## 2.\tWhich are the Linux Directory Commands?"
   ]
  },
  {
   "cell_type": "markdown",
   "id": "2bb887ef",
   "metadata": {},
   "source": [
    "- cd : The cd command stands for (change directory). It is used to change to the directory you want to work from the present directory.\n",
    "- mkdir : With mkdir command you can create your own directory.\n",
    "- rmdir : The rmdir command is used to remove a directory from your system.\n",
    "- ls : The ls command is used to show the list of a folder. It will list out all the files in the directed folder.\n",
    "- pwd : The pwd command stands for (print working directory). It displays the current working location or directory of the user. It displays the whole working path starting with /. It is a built-in command."
   ]
  },
  {
   "cell_type": "markdown",
   "id": "77e4d0c6",
   "metadata": {},
   "source": [
    "## 3.\tWhat is Virtual Desktop?"
   ]
  },
  {
   "cell_type": "markdown",
   "id": "a478c0dd",
   "metadata": {},
   "source": [
    "- A virtual desktop is a computer operating system that does not run directly on the endpoint hardware from which a user accesses it.\n",
    "- Virtual desktops are accessible through client software installed directly on an endpoint, which presents the desktop to the user and allows them to interact with it using a keyboard, mouse, touchscreen and peripherals."
   ]
  },
  {
   "cell_type": "markdown",
   "id": "7179d15c",
   "metadata": {},
   "source": [
    "## 4.\tWhich are the different modes of vi editor?"
   ]
  },
  {
   "cell_type": "markdown",
   "id": "71f895da",
   "metadata": {},
   "source": [
    "- The default editor that comes with the UNIX operating system is called vi (visual editor). Using vi editor, we can edit an existing file or create a new file from scratch. we can also use this editor to just read a text file.\n",
    "- Modes of Operation in vi editor There are three modes of operation in vi:\n",
    " * **Command Mode:** When vi starts up, it is in Command Mode. This mode is where vi interprets any characters we type as commands and thus does not display them in the window. This mode allows us to move through a file, and to delete, copy, or paste a piece of text.To enter into Command Mode from any other mode, it requires pressing the [Esc] key. If we press [Esc] when we are already in Command Mode, then vi will beep or flash the screen.\n",
    " * **Insert mode:** This mode enables you to insert text into the file. Everything that’s typed in this mode is interpreted as input and finally, it is put in the file. The vi always starts in command mode. To enter text, you must be in insert mode. To come in insert mode you simply type i. To get out of insert mode, press the Esc key, which will put you back into command mode.\n",
    " * **Last Line Mode(Escape Mode):** Line Mode is invoked by typing a colon [:], while vi is in Command Mode. The cursor will jump to the last line of the screen and vi will wait for a command. This mode enables you to perform tasks such as saving files, executing commands."
   ]
  },
  {
   "cell_type": "markdown",
   "id": "05ca06f3",
   "metadata": {},
   "source": [
    "## 5.\tWhat are daemons?"
   ]
  },
  {
   "cell_type": "markdown",
   "id": "bfa82f58",
   "metadata": {},
   "source": [
    "- Special types of background processes that start at system startup and keep running forever as a service; they don’t die.\n",
    "- They are started as system tasks (run as services), spontaneously. However, they can be controlled by a user via the init process."
   ]
  },
  {
   "cell_type": "markdown",
   "id": "3ef9f596",
   "metadata": {},
   "source": [
    "## 6.\tWhat are the process states in Linux?"
   ]
  },
  {
   "cell_type": "markdown",
   "id": "bcaf5180",
   "metadata": {},
   "source": [
    "- The states that a Process enters in working from start till end are known as Process states. These are listed below as:\n",
    "\n",
    " * **Created**-Process is newly created by system call, is not ready to run\n",
    " * **User running**-Process is running in user mode which means it is a user process.\n",
    " * **Kernel Running**-Indicates process is a kernel process running in kernel mode.\n",
    " * **Zombie**- Process does not exist/ is terminated.\n",
    " * **Preempted**- When process runs from kernel to user mode, it is said to be preempted.\n",
    " * **Ready to run in memory**- It indicated that process has reached a state where it is ready to run in memory and is waiting for kernel to schedule it.\n",
    " * **Ready to run, swapped**– Process is ready to run but no empty main memory is present\n",
    " * **Sleep, swapped**- Process has been swapped to secondary storage and is at a blocked state.\n",
    " * **Asleep in memory**- Process is in memory(not swapped to secondary storage) but is in blocked state.\n",
    "\n",
    "<img src=\"https://media.geeksforgeeks.org/wp-content/uploads/transitions.jpg\" width=\"800\" >"
   ]
  },
  {
   "cell_type": "markdown",
   "id": "a59b81d2",
   "metadata": {},
   "source": [
    "## 7.\tExplain grep command"
   ]
  },
  {
   "cell_type": "markdown",
   "id": "be94b5e4",
   "metadata": {},
   "source": [
    "- The grep filter searches a file for a particular pattern of characters, and displays all lines that contain that pattern.\n",
    "- Syntax: \n",
    " - **grep [options] pattern [files]**\n",
    " \n",
    "**Options Description**\n",
    " * -c : This prints only a count of the lines that match a pattern\n",
    " * -h : Display the matched lines, but do not display the filenames.\n",
    " * -i : Ignores, case for matching\n",
    " * -l : Displays list of a filenames only.\n",
    " * -n : Display the matched lines and their line numbers.\n",
    " *  -v : This prints out all the lines that do not matches the pattern\n",
    " * -e exp : Specifies expression with this option. Can use multiple times.\n",
    " * -f file : Takes patterns from file, one per line.\n",
    " * -E : Treats pattern as an extended regular expression (ERE)\n",
    " * -w : Match whole word\n",
    " * -o : Print only the matched parts of a matching line,with each such part on a separate output line.\n",
    "\n",
    " * -A n : Prints searched line and nlines after the result.\n",
    " * -B n : Prints searched line and n line before the result.\n",
    " * -C n : Prints searched line and n lines after before the result.\n",
    "\n",
    "**REGULAR EXPRESSIONS**\n",
    " - g*   : nothing or g,gg,ggg etc\n",
    " - gg*  : g,gg,ggg etc\n",
    " - .*   : nothing or any no of characters\n",
    " - [1-3] : a digit b/w 1 & 3\n",
    " - [^a-zA-Z] : a non-alphabetic character\n",
    " - bash\\\\$  : bash at end of file\n",
    " - ^bash\\\\$  : bash as the only word in line\n",
    " - ^$\t: line containing nothing"
   ]
  },
  {
   "cell_type": "markdown",
   "id": "6e9c8f28",
   "metadata": {},
   "source": [
    "## 8.\tExplain Process Management System Calls in Linux"
   ]
  },
  {
   "cell_type": "markdown",
   "id": "a7063f7c",
   "metadata": {},
   "source": [
    "- There are 3 distinct phase in mechanism of process creation and uses 3 system calls: \n",
    "      - fork(), exec() and wait(). \n",
    " * fork(): Creates a child process. A new process is created because an existing process creates an exact copy of itself. This child process has the same environment as its parent but only the PID is different. This procedure is known as forking. \n",
    "  * exec(): After forking the process, the address space of the child process is overwritten by the new process data. This is done through exec call to the system. No new process is created over here. The PID & PPID remains unchanged. \n",
    "  * wait(): The parent then executes wait system call to wait for the child process to complete its execution."
   ]
  },
  {
   "cell_type": "markdown",
   "id": "690484e3",
   "metadata": {},
   "source": [
    "## 9.\tExplain the ‘ls’ command"
   ]
  },
  {
   "cell_type": "markdown",
   "id": "2471c4ca",
   "metadata": {},
   "source": [
    "- It will show the full list or content of current directory.\n",
    "- Type the ls / command to list the contents of the root directory.\n",
    "- Type the ls .. command to list the contents of the parent directory one level above. Use ls ../.. for contents two levels above.\n",
    "- Type the ls ~ command to list the contents in the users's home directory.\n",
    "- Type the ls -d */ command to list only directories.\n",
    "- ype the ls * command to list the contents of the directory with it's subdirectories.\n",
    "- Type the ls -R command to list all files and directories with their corresponding subdirectories down to the last file.\n",
    "- Type the ls -s command (the s is lowercase) to list files or directories with their sizes\n",
    "- Type the ls -l command to list the contents of the directory in a table format with columns including:\n",
    "    * content permissions\n",
    "    * number of links to the content\n",
    "    * owner of the content\n",
    "    * group owner of the content\n",
    "    * size of the content in bytes\n",
    "    * last modified date / time of the content\n",
    "    * file or directory name"
   ]
  },
  {
   "cell_type": "markdown",
   "id": "8baa5a53",
   "metadata": {},
   "source": [
    "## 10.\tExplain the redirection operator"
   ]
  },
  {
   "cell_type": "markdown",
   "id": "f1b4948a",
   "metadata": {},
   "source": [
    "Most Unix system commands take input from your terminal and send the resulting output back to your terminal. A command normally reads its input from the standard input, which happens to be your terminal by default. \n",
    "Similarly, a command normally writes its output to standard output, which is again your terminal by default.\n",
    "\n",
    "Output Redirection ( >, >> )\n",
    "------------------\n",
    "->The output from a command normally intended for standard output can be easily diverted to a file instead. \n",
    "\n",
    "-> If the notation > file is appended to any command that normally writes its output to standard output, the output of that command will be written to file instead of your terminal.\n",
    "\n",
    "EXAMPLE:\n",
    "--------  \n",
    "$ who > users\n",
    "\n",
    "Notice that no output appears at the terminal. This is because the output has been redirected from the default standard output device (the terminal) into the specified file. \n",
    "\n",
    "OUTPUT:\n",
    "-------\n",
    "$ cat users\n",
    "oko         tty01   Sep 12 07:30\n",
    "ai          tty15   Sep 12 13:32\n",
    "ruth        tty21   Sep 12 10:10\n",
    "\n",
    "If a command has its output redirected to a file and the file already contains some data, that data will be lost.\n",
    "\n",
    "EXAMPLE:\n",
    "--------\n",
    "\n",
    "$echo line 1 > users\n",
    "\n",
    "$cat users\n",
    "line 1\n",
    "\n",
    "You can use >> operator to append the output in an existing file as follows −\n",
    "\n",
    "$ echo line 2 >> users\n",
    "\n",
    "$ cat users\n",
    "line 1\n",
    "line 2\n",
    "\n",
    "\n",
    "Input Redirection ( < )\n",
    "-----------------\n",
    "\n",
    "-> As the greater-than character > is used for output redirection, the less-than character < is used to redirect the input of a command.\n",
    "\n",
    "-> The commands that normally take their input from the standard input can have their input redirected from a file in this manner. \n",
    "For example, to count the number of lines in the file users generated above, you can execute the command as follows:\n",
    "\n",
    "$ wc -l users\n",
    "2 users\n",
    " \n",
    "by redirecting the standard input:\n",
    "\n",
    "$ wc -l < users\n",
    "2\n",
    "\n",
    "Differences:\n",
    "------------\n",
    "-> In the first case, the name of the file users is listed with the line count; in the second case, it is not.\n",
    "\n",
    "-> In the first case, wc knows that it is reading its input from the file users. In the second case, it only knows that it is reading its input from standard input so it does not display file name.\n",
    "\n",
    "Here Document ( << )\n",
    "-------------\n",
    "A here document is used to redirect input into an interactive shell script or program.\n",
    "\n",
    "SYNTAX:\n",
    "-------\n",
    "command << DOCUMENT_NAME\n",
    "\n",
    "-> Here the shell interprets the << operator as an instruction to read input until it finds a line containing the specified delimiter. \n",
    "-> All the input lines up to the line containing the delimiter are then fed into the standard input of the command.\n",
    "\n",
    "The delimiter tells the shell that the here document has completed.\n",
    "\n",
    "EXAMPLE:1\n",
    "--------\n",
    "cat << file\n",
    "This is a simple lookup program \n",
    "for here document\n",
    "in CSE dept.\n",
    "EOF(ctrl+d)\n",
    "\n",
    "output:\n",
    "-------\n",
    "This is a simple lookup program \n",
    "for here document\n",
    "in CSE dept.\n",
    "\n",
    "EXAMPLE:2\n",
    "--------\n",
    "$wc -l << file\n",
    "This is a simple lookup program \n",
    "for here document\n",
    "in CSE dept.\n",
    "EOF\n",
    "\n",
    "output:\n",
    "--------\n",
    "3\n",
    "\n",
    "STANDARD ERROR:\n",
    "---------------\n",
    "Standard error (“stderr”) is like standard output and standard input, but it’s the place where error messages go. \n",
    "\n",
    "To see some stderr output, try catting a file that doesn’t exist:\n",
    "\n",
    "$ cat filename\n",
    "cat: filename: No such file or directory\n",
    "\n",
    "FILE DESCRIPTORS:\n",
    "-----------------\n",
    "\n",
    "A file is opened by referring to its pathname, but subsequent read and write operations identify the file by a unique number called a file descriptor. \n",
    "\n",
    "The kernel maintains a table of file descriptors for every process running in the system. The first three slots are generally allocated to the three standard streams as,\n",
    "\n",
    "0 – Standard input\n",
    "1 – Standard output\n",
    "2 – Standard error\n",
    "\n",
    "# Redirect stdout to stdout (FD 1)\n",
    "\n",
    "$echo \"hello there\" >&1\n",
    "hello there\n",
    "\n",
    "NOTE: use >& instead of >"
   ]
  },
  {
   "cell_type": "code",
   "execution_count": null,
   "id": "affa20b7",
   "metadata": {},
   "outputs": [],
   "source": []
  }
 ],
 "metadata": {
  "kernelspec": {
   "display_name": "Python 3 (ipykernel)",
   "language": "python",
   "name": "python3"
  },
  "language_info": {
   "codemirror_mode": {
    "name": "ipython",
    "version": 3
   },
   "file_extension": ".py",
   "mimetype": "text/x-python",
   "name": "python",
   "nbconvert_exporter": "python",
   "pygments_lexer": "ipython3",
   "version": "3.9.7"
  }
 },
 "nbformat": 4,
 "nbformat_minor": 5
}
