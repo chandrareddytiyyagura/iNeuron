{
 "cells": [
  {
   "cell_type": "markdown",
   "id": "4fb53f5a",
   "metadata": {},
   "source": [
    "## 1.\tExplain ls command"
   ]
  },
  {
   "cell_type": "markdown",
   "id": "408c6897",
   "metadata": {},
   "source": [
    "The ls command is used to list the files in a specified directory. The general syntax is:\n",
    "\n",
    "$ ls <options> <directory>\n",
    "\n",
    "For example, if you want to list all the files in the Example directory, then the command will be as follows:\n",
    "\n",
    "$ ls Example/\n",
    "\n",
    "There are different options that can be used with the ls command. These options give additional information about the file/ folder. For example:\n",
    "\n",
    "- -l\t lists long format (shows the permissions of the file)\n",
    "- -a\t lists all files including hidden files\n",
    "- -i\t lists files with their inode number\n",
    "- -s\t lists files with their size\n",
    "- -S\t lists files with their size and sorts the list by file size\n",
    "- -t\t sorts the listed files by time and date"
   ]
  },
  {
   "cell_type": "markdown",
   "id": "bc3dbb62",
   "metadata": {},
   "source": [
    "## 2.\tWhat are the various versions of ls command?"
   ]
  },
  {
   "cell_type": "markdown",
   "id": "eb3b8d07",
   "metadata": {},
   "source": [
    "<img src=\"ls_versions.png\">"
   ]
  },
  {
   "cell_type": "markdown",
   "id": "cbdc331b",
   "metadata": {},
   "source": [
    "## 3.\tWhat is a Linux distro?"
   ]
  },
  {
   "cell_type": "markdown",
   "id": "5fc1214c",
   "metadata": {},
   "source": [
    "- A Linux distribution -- often shortened to \"Linux distro\" -- is a version of the open source Linux operating system that is packaged with other components, such as an installation programs, management tools and additional software such as the KVM hypervisor."
   ]
  },
  {
   "cell_type": "markdown",
   "id": "b661eb8b",
   "metadata": {},
   "source": [
    "## 4.\tWhat are the Linux distro you know?"
   ]
  },
  {
   "cell_type": "markdown",
   "id": "2774e534",
   "metadata": {},
   "source": [
    "- Fedora (Red Hat)\n",
    "- openSUSE (SUSE)\n",
    "- Ubuntu (Canonical Ltd.) \n",
    "- Debian, Slackware\n",
    "- Gentoo\n",
    "- Arch Linux."
   ]
  },
  {
   "cell_type": "markdown",
   "id": "d2c10f04",
   "metadata": {},
   "source": [
    "## 5.\tWhat is the command to calculate the size of a folder?"
   ]
  },
  {
   "cell_type": "markdown",
   "id": "9283ca70",
   "metadata": {},
   "source": [
    "- du command is used to know the size of a file\n",
    "- synatx:\n",
    "    - $du file_name"
   ]
  },
  {
   "cell_type": "markdown",
   "id": "57e2d4ac",
   "metadata": {},
   "source": [
    "## 6.\tHow can you find the status of a process?"
   ]
  },
  {
   "cell_type": "markdown",
   "id": "0ab1845e",
   "metadata": {},
   "source": [
    "- by using ps command\n",
    "<img src=\"ps.png\">"
   ]
  },
  {
   "cell_type": "markdown",
   "id": "36fb0804",
   "metadata": {},
   "source": [
    "## 7.\tHow can you check the memory status?"
   ]
  },
  {
   "cell_type": "markdown",
   "id": "17b18061",
   "metadata": {},
   "source": [
    "- By using the following commands\n",
    "    - free -m\n",
    "    - vmstat\n",
    "    - top\n",
    "    - htop"
   ]
  },
  {
   "cell_type": "markdown",
   "id": "478fd694",
   "metadata": {},
   "source": [
    "## 8.\tExplain how to enable root logging in Ubuntu?"
   ]
  },
  {
   "cell_type": "markdown",
   "id": "61e00c87",
   "metadata": {},
   "source": [
    "- In order to enable root login we nedd set the password for root by using following command \n",
    "- $sudo passwd root\n",
    "- After entering this command it will ask to set new password(password you enteres not visbile)\n",
    "- so root login is enabled\n",
    "- we nedd to lgin using user as root and password you set"
   ]
  },
  {
   "cell_type": "markdown",
   "id": "53f1c636",
   "metadata": {},
   "source": [
    "## 9.\tWhat is the use of the sudo command?"
   ]
  },
  {
   "cell_type": "markdown",
   "id": "437209d5",
   "metadata": {},
   "source": [
    "- The sudo command allows you to run programs with the security privileges of another user."
   ]
  },
  {
   "cell_type": "markdown",
   "id": "cf352c49",
   "metadata": {},
   "source": [
    "## 10.\tExplain how to uninstall the libraries in Linux?"
   ]
  },
  {
   "cell_type": "markdown",
   "id": "fcbd4a0d",
   "metadata": {},
   "source": [
    "- dpkg command to uninstall library\n",
    "    - sudo dkpg -l library_name\n",
    "- apt command to uninstall library\n",
    "    - sudo apt remove library_name"
   ]
  },
  {
   "cell_type": "code",
   "execution_count": null,
   "id": "f2d7c584",
   "metadata": {},
   "outputs": [],
   "source": []
  }
 ],
 "metadata": {
  "kernelspec": {
   "display_name": "Python 3 (ipykernel)",
   "language": "python",
   "name": "python3"
  },
  "language_info": {
   "codemirror_mode": {
    "name": "ipython",
    "version": 3
   },
   "file_extension": ".py",
   "mimetype": "text/x-python",
   "name": "python",
   "nbconvert_exporter": "python",
   "pygments_lexer": "ipython3",
   "version": "3.9.7"
  }
 },
 "nbformat": 4,
 "nbformat_minor": 5
}
