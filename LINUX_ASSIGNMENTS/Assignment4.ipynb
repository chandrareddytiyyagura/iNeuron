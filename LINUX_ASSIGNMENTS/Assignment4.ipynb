{
 "cells": [
  {
   "cell_type": "markdown",
   "id": "77f34ca0",
   "metadata": {},
   "source": [
    "## 1.\tWrite a bash script to delete all the files in the current directory that contains the word “ineuron”."
   ]
  },
  {
   "cell_type": "markdown",
   "id": "44cf076d",
   "metadata": {},
   "source": [
    "<img src=\"code.png\">\n",
    "<img src=\"file_removed.png\">"
   ]
  },
  {
   "cell_type": "markdown",
   "id": "ed004945",
   "metadata": {},
   "source": [
    "## 2.\tHow would you create a text file without opening it?"
   ]
  },
  {
   "cell_type": "markdown",
   "id": "6e2998fd",
   "metadata": {},
   "source": [
    "The touch command can be used to create a text file without opening it. The touch command will create an empty file. The syntax is as follows:\n",
    "\n",
    "$ touch <filename>\n",
    "\n",
    "Suppose you want to create a file named sample.txt, then the command would be:\n",
    "\n",
    "$ touch sample.txt\n",
    "Another way\n",
    "------\n",
    "<img src=\"another_way_of_file_creation.png\">"
   ]
  },
  {
   "cell_type": "markdown",
   "id": "24154636",
   "metadata": {},
   "source": [
    "## 3.\tHow would you delete a directory in Linux?"
   ]
  },
  {
   "cell_type": "markdown",
   "id": "c789491c",
   "metadata": {},
   "source": [
    "- By using rmdir command file direcrectory is empty\n",
    "    - synatx:\n",
    "         - **rmdir directory_name**\n",
    "- If directory is non empty then we use rmdir -r(recursive) to delete that directory\n",
    "    - synatx:\n",
    "        - **rm -r directory_name**"
   ]
  },
  {
   "cell_type": "markdown",
   "id": "7c5835cf",
   "metadata": {},
   "source": [
    "## 4.\tHow would you schedule a task in Linux?"
   ]
  },
  {
   "cell_type": "markdown",
   "id": "26a12b5d",
   "metadata": {},
   "source": [
    "There are two commands to schedule tasks in Linux: cron and at.\n",
    "\n",
    "The cron command is used to repeatedly schedule a task at a specific time. The tasks are stored in a cron file and then executed using the cron command. The cron command reads the string from this file and schedules the task. The syntax for the string to enter in the cron file is as follows:\n",
    "\n",
    "<minute> <hour> <day> <month> <weekday> <command>\n",
    "\n",
    "Suppose you want to run a command at 4 pm every Sunday, then the string would be:\n",
    "\n",
    "0 16 * * 0 <command>\n",
    "\n",
    "The at command is used to schedule a task only once at the specified time.\n",
    "\n",
    "Suppose you want to shut down the system at 6 pm today, then the command for this would be:\n",
    "\n",
    "$ echo \"shutdown now\" | at -m 18:00"
   ]
  },
  {
   "cell_type": "markdown",
   "id": "d67040cf",
   "metadata": {},
   "source": [
    "## 5.\tSuppose you try to delete a file using the rm command and the deletion fails. What could be the possible reason?"
   ]
  },
  {
   "cell_type": "markdown",
   "id": "981192d8",
   "metadata": {},
   "source": [
    "- The path specified to the file or the file name mentioned might be wrong\n",
    "- The user trying to delete the file might not have permissions to delete the file."
   ]
  },
  {
   "cell_type": "markdown",
   "id": "e012cd00",
   "metadata": {},
   "source": [
    "## 6.\tHow do you look at the contents of a file?"
   ]
  },
  {
   "cell_type": "markdown",
   "id": "cb67fa12",
   "metadata": {},
   "source": [
    "- By using cat command\n",
    "    - synatx\n",
    "        - cat file_name"
   ]
  },
  {
   "cell_type": "markdown",
   "id": "f739643e",
   "metadata": {},
   "source": [
    "## 7.\tHow to identify which shell you are using?"
   ]
  },
  {
   "cell_type": "markdown",
   "id": "c6a40a94",
   "metadata": {},
   "source": [
    "Open the terminal and run:\n",
    "\n",
    "\\$echo  \\\\$SHELL\n",
    "\n",
    "This will print the name of the Shell being used. \n",
    "<img src=\"shell_name.png\">"
   ]
  },
  {
   "cell_type": "markdown",
   "id": "d1f40a51",
   "metadata": {},
   "source": [
    "## 8.\tHow can you login to another system in your network from your system?"
   ]
  },
  {
   "cell_type": "markdown",
   "id": "a1684c8d",
   "metadata": {},
   "source": [
    "SSH can be used for this. The Syntax is as follows:\n",
    "\n",
    "ssh <username>@<ip address>\n",
    "\n",
    "Suppose you want to login into a system with IP address 172.23.10.13 as a user “chandra”, then the command would be:\n",
    "\n",
    "$ ssh chandra@172.23.10.13"
   ]
  },
  {
   "cell_type": "markdown",
   "id": "f70d3b5a",
   "metadata": {},
   "source": [
    "## 9.\tHow would you open a file in read-only mode using the vim editor?"
   ]
  },
  {
   "cell_type": "markdown",
   "id": "08741db3",
   "metadata": {},
   "source": [
    "vim -R \\<filename>"
   ]
  },
  {
   "cell_type": "code",
   "execution_count": null,
   "id": "b6ed17ed",
   "metadata": {},
   "outputs": [],
   "source": []
  }
 ],
 "metadata": {
  "kernelspec": {
   "display_name": "Python 3 (ipykernel)",
   "language": "python",
   "name": "python3"
  },
  "language_info": {
   "codemirror_mode": {
    "name": "ipython",
    "version": 3
   },
   "file_extension": ".py",
   "mimetype": "text/x-python",
   "name": "python",
   "nbconvert_exporter": "python",
   "pygments_lexer": "ipython3",
   "version": "3.9.7"
  }
 },
 "nbformat": 4,
 "nbformat_minor": 5
}
