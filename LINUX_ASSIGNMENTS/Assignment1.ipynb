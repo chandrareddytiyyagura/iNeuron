{
 "cells": [
  {
   "cell_type": "markdown",
   "id": "489d9506",
   "metadata": {},
   "source": [
    "# 1.\tWhat is Linux? "
   ]
  },
  {
   "cell_type": "markdown",
   "id": "405574c9",
   "metadata": {},
   "source": [
    "- LINUX is a kernel, which is distibuted as an open source project. It is quite similar to unix in functionality. Kernel is the heart of the LINUX Operating system, it is only one which can communicate directly with Hardware ."
   ]
  },
  {
   "cell_type": "markdown",
   "id": "d09bd839",
   "metadata": {},
   "source": [
    "# 2.\tWhat is the difference between Linux and Unix? "
   ]
  },
  {
   "cell_type": "markdown",
   "id": "05dd40f4",
   "metadata": {},
   "source": [
    "<img src=\"diff_linux_unix.png\" width= \"900\">"
   ]
  },
  {
   "cell_type": "markdown",
   "id": "888759f1",
   "metadata": {},
   "source": [
    "## 3.\tWhat is Linux Kernel? Is it legal to edit Linux Kernel? "
   ]
  },
  {
   "cell_type": "markdown",
   "id": "1d6b07b7",
   "metadata": {},
   "source": [
    "-  LINUX is a kernel, which is distibuted as an open source project. It is quite similar to unix in functionality. Kernel is the heart of the LINUX Operating system, it is only one which can communicate directly with Hardware .\n",
    "\n",
    "-  You can edit Linux Kernel because it is released under General Public License (GPL) and anyone can edit it. It comes under the category of free and open source software."
   ]
  },
  {
   "cell_type": "markdown",
   "id": "7f7ea182",
   "metadata": {},
   "source": [
    "## 4.\tWhat is LILO? "
   ]
  },
  {
   "cell_type": "markdown",
   "id": "4813d59b",
   "metadata": {},
   "source": [
    "- LILO stands for Linux Loader that is used to load Linux into memory. Boot loader is a small program that manages a dual boot and allows user to select which one to use now.(when the time of booting)"
   ]
  },
  {
   "cell_type": "markdown",
   "id": "91221a3b",
   "metadata": {},
   "source": [
    "## 5.\tWhat are the basic components of Linux? "
   ]
  },
  {
   "cell_type": "markdown",
   "id": "ebac61dc",
   "metadata": {},
   "source": [
    "- **Bootloader :**\n",
    " Your computer needs to go through a startup sequence called booting. This boot process needs guidance, and your OS is the software in control throughout the boot process. When you start your computer the bootloader for your operating system kickstarts the process.\n",
    "- **OS Kernel :** \n",
    "You can call the kernel the part of the operating system which is the “closest” to your computing hardware as it is the part which controls the CPU, access to memory and any peripheral devices. It is the “lowest” level at which your operating system works.\n",
    "- **Background services:** Called “daemons” in Linux, these small applications act as servants in the background, ensuring that key functions such as scheduling, printing and multimedia function correctly. They load after you have booted up, or when you have logged into your computer.\n",
    "- **OS Shell:** You need to be able to tell our operating system what to do, and this is the goal of the shell. Also known as the command line, it is a facility which lets you instruct your OS using text. However few people nowadays are familiar with command line code, and it once used to put people off using Linux. This changed because a modern distribution of Linux will use a desktop shell just like Windows.\n",
    "- **Graphics server:** This provides a graphical sub-system that renders images and shapes on your computer monitor. Linux uses a graphical server called “X” or “X-server”.\n",
    "- **Desktop environment:** You can’t interact with the graphical server directly. Instead you need software that can drive the server. This is called a desktop environment in Linux and there are plenty of options including KDE, Unity and Cinnamon. A desktop environment is usually bundled with a number of applications including file and web browsers plus a couple of games.\n",
    "- **Applications:** Obviously, the desktop environment which is bundled with your Linux OS or which you choose to install cannot cater for every application need, there are too many. Individual applications, however, can and there are thousands for Linux just like Windows and Apple’s OS X has thousands of applications. Most Linux distros have app stores which help you find and install apps, for example Ubuntu Software which comes with Ubuntu."
   ]
  },
  {
   "cell_type": "markdown",
   "id": "eb23fdce",
   "metadata": {},
   "source": [
    "## 6.\tWhich are the Shells used in Linux? "
   ]
  },
  {
   "cell_type": "markdown",
   "id": "0e64bfc1",
   "metadata": {},
   "source": [
    "- Bash Shell (Bourne Again Shell)\n",
    "- Tcsh/Csh Shell (Enhanced C shell)\n",
    "- Ksh Shell (Korn shell)\n",
    "- Zsh Shell (Intractive shell which incopreates shells like bash, tcsh and ksh)\n",
    "- Fish (Friendly interactive shell)"
   ]
  },
  {
   "cell_type": "markdown",
   "id": "f853730d",
   "metadata": {},
   "source": [
    "## 7.\tWhat is Swap Space? "
   ]
  },
  {
   "cell_type": "markdown",
   "id": "12b7ccb7",
   "metadata": {},
   "source": [
    "-  Swap space is a space on a hard disk that is a substitute for physical memory. It is used as virtual memory which contains process memory images. Whenever our computer runs short of physical memory it uses its virtual memory and stores information in memory on disk."
   ]
  },
  {
   "cell_type": "markdown",
   "id": "29678340",
   "metadata": {},
   "source": [
    "## 8.\tWhat is the difference between BASH and DOS? "
   ]
  },
  {
   "cell_type": "markdown",
   "id": "1a0fc746",
   "metadata": {},
   "source": [
    "<img src=\"diff_Bash_Dos.png\" width= \"900\">"
   ]
  },
  {
   "cell_type": "markdown",
   "id": "4e0c079d",
   "metadata": {},
   "source": [
    "## 9.\tWhat command would you use to check how much memory is being used by Linux? "
   ]
  },
  {
   "attachments": {},
   "cell_type": "markdown",
   "id": "42e48614",
   "metadata": {},
   "source": [
    "- Free command is used to check how much memory is being used\n",
    "\n",
    "<img src=\"free_memory.png\" width= \"900\">"
   ]
  },
  {
   "cell_type": "markdown",
   "id": "2feed303",
   "metadata": {},
   "source": [
    "## 10.\tExplain file permission in Linux."
   ]
  },
  {
   "cell_type": "markdown",
   "id": "436254e3",
   "metadata": {},
   "source": [
    "- All the three owners (user owner, group, others) in the Linux system have three types of permissions defined. Nine characters denotes the three types of permissions.\n",
    "<img src=\"file_permisions.png\" width= \"900\">\n",
    "- (hypen) represents the file type\n",
    "- red box reprensts the owner permisions , green box reprensts the group permisions and yellow represents the other permisions\n",
    "- r-Reda\n",
    "  w-Write\n",
    "  x-Execute"
   ]
  },
  {
   "cell_type": "code",
   "execution_count": null,
   "id": "ef6435b1",
   "metadata": {},
   "outputs": [],
   "source": []
  }
 ],
 "metadata": {
  "kernelspec": {
   "display_name": "Python 3 (ipykernel)",
   "language": "python",
   "name": "python3"
  },
  "language_info": {
   "codemirror_mode": {
    "name": "ipython",
    "version": 3
   },
   "file_extension": ".py",
   "mimetype": "text/x-python",
   "name": "python",
   "nbconvert_exporter": "python",
   "pygments_lexer": "ipython3",
   "version": "3.9.7"
  }
 },
 "nbformat": 4,
 "nbformat_minor": 5
}
