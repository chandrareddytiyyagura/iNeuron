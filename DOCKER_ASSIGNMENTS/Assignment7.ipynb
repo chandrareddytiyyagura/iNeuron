{
 "cells": [
  {
   "cell_type": "markdown",
   "id": "e0abaf78",
   "metadata": {},
   "source": [
    "## 1.\tIn Docker, where are docker volumes stored?"
   ]
  },
  {
   "cell_type": "markdown",
   "id": "f9ff5441",
   "metadata": {},
   "source": [
    "- Volumes are stored in a part of the host filesystem which is managed by Docker ( /var/lib/docker/volumes/ on Linux)"
   ]
  },
  {
   "cell_type": "markdown",
   "id": "ab6c8955",
   "metadata": {},
   "source": [
    "## 2.\tWhat is the purpose of the docker info command?"
   ]
  },
  {
   "cell_type": "markdown",
   "id": "f86e3f1c",
   "metadata": {},
   "source": [
    "- This command displays system wide information regarding the Docker installation. Information displayed includes the kernel version, number of containers and images."
   ]
  },
  {
   "cell_type": "markdown",
   "id": "f4a55d34",
   "metadata": {},
   "source": [
    "## 3.\tWhat are the minimum system requirements for Docker to run?"
   ]
  },
  {
   "cell_type": "markdown",
   "id": "d36b023d",
   "metadata": {},
   "source": [
    "**WSL 2 backend**\n",
    "\n",
    "- Windows 11 64-bit: Home or Pro version 21H2 or higher, or Enterprise or Education version 21H2 or higher.\n",
    "- Windows 10 64-bit: Home or Pro 2004 (build 19041) or higher, or Enterprise or Education 1909 (build 18363) or higher.\n",
    "- Enable the WSL 2 feature on Windows. For detailed instructions, refer to the Microsoft documentation.\n",
    "- The following hardware prerequisites are required to successfully run WSL 2 on Windows 10 or Windows 11:\n",
    "    - 64-bit processor with Second Level Address Translation (SLAT)\n",
    "    - 4GB system RAM\n",
    "    - BIOS-level hardware virtualization support must be enabled in the BIOS settings. For more information, see Virtualization.\n",
    "    - Download and install the Linux kernel update package.\n",
    "\n",
    "**Hyper-V backend and Windows containers**\n",
    "\n",
    "- Windows 11 64-bit: Pro version 21H2 or higher, or Enterprise or Education version 21H2 or higher.\n",
    "- Windows 10 64-bit: Pro 2004 (build 19041) or higher, or Enterprise or Education 1909 (build 18363) or higher.\n",
    "\n",
    "- For Windows 10 and Windows 11 Home, see System requirements for WSL 2 backend.\n",
    "\n",
    "- Hyper-V and Containers Windows features must be enabled.\n",
    "- The following hardware prerequisites are required to successfully run Client Hyper-V on Windows 10:\n",
    "    - 64 bit processor with Second Level Address Translation (SLAT)\n",
    "    - 4GB system RAM\n",
    "    - BIOS-level hardware virtualization support must be enabled in the BIOS settings. For more information, see Virtualization."
   ]
  },
  {
   "cell_type": "markdown",
   "id": "708bf850",
   "metadata": {},
   "source": [
    "## 4.\tWhat are the most widely utilized Dockerfile instructions?"
   ]
  },
  {
   "cell_type": "markdown",
   "id": "7cffb0f6",
   "metadata": {},
   "source": [
    "- FROM\n",
    "- RUN\n",
    "- CMD\n",
    "- ENTRYPOINT\n",
    "- WORKDIR\n",
    "- COPY\n",
    "- ADD\n",
    "- EXPOSE\n",
    "- LABEL"
   ]
  },
  {
   "cell_type": "markdown",
   "id": "60a0a28d",
   "metadata": {},
   "source": [
    "## 6.\tHow can I utilise Docker to run several applications in a single environment?"
   ]
  },
  {
   "cell_type": "markdown",
   "id": "2c2f4565",
   "metadata": {},
   "source": [
    "-By using containers we can run serveral applications in a singlr environment"
   ]
  },
  {
   "cell_type": "markdown",
   "id": "35404b18",
   "metadata": {},
   "source": [
    "## 7.\tWhat are the System commands for controlling Docker?"
   ]
  },
  {
   "cell_type": "markdown",
   "id": "8376aefa",
   "metadata": {},
   "source": [
    "- run Command.\n",
    "- ps Command.\n",
    "- ls Command.\n",
    "- stop Command.\n",
    "- rm Command.\n",
    "- exec Command.\n",
    "- logs Command.\n",
    "- cp Command."
   ]
  },
  {
   "cell_type": "markdown",
   "id": "79e92c03",
   "metadata": {},
   "source": [
    "## 8.\tHow do you scale your Docker containers, and what command do you use to do so?"
   ]
  },
  {
   "cell_type": "markdown",
   "id": "3b3e4dc7",
   "metadata": {},
   "source": [
    " - $docker service scale [containername]=[number of scale instances]"
   ]
  },
  {
   "cell_type": "markdown",
   "id": "eb0924ee",
   "metadata": {},
   "source": [
    "## 9.\tWhat exactly is CNM?"
   ]
  },
  {
   "cell_type": "markdown",
   "id": "ad32c79a",
   "metadata": {},
   "source": [
    "- The Container Network Model (CNM) is a specification proposed by Docker, adopted by projects such as libnetwork, with integrations from projects and companies such as Cisco Contiv, Kuryr, Open Virtual Networking (OVN), Project Calico, VMware and Weave."
   ]
  },
  {
   "cell_type": "markdown",
   "id": "3212e54c",
   "metadata": {},
   "source": [
    "## 10.\tExplain what some of the more complex Docker commands do."
   ]
  },
  {
   "cell_type": "markdown",
   "id": "f4b2e09b",
   "metadata": {},
   "source": [
    "- docker ps\n",
    "    - to list running containers\n",
    "- docker ps -a \n",
    "    - to list all containers\n",
    "- docker stop [name]\n",
    "    - it will stop the container with that [name]\n",
    "- docker rm [name]\n",
    "    - it will remove the container with that [name]\n",
    "- docker images\n",
    "    - it will list all the images\n",
    "- docker run nginx\n",
    "    - if image is available then it will run if not then it will download\n",
    "- docker pull nginx\n",
    "    - it will download the image and then it will run"
   ]
  },
  {
   "cell_type": "markdown",
   "id": "079feba3",
   "metadata": {},
   "source": [
    "## 11.\tHow do Docker object labels work?"
   ]
  },
  {
   "cell_type": "markdown",
   "id": "fb498bd2",
   "metadata": {},
   "source": [
    "- A label is a key-value pair, stored as a string\n",
    "- You can specify multiple labels for an object, but each key-value pair must be unique within an object. If the same key is given multiple values, the most-recently-written value overwrites all previous values."
   ]
  },
  {
   "cell_type": "code",
   "execution_count": null,
   "id": "3b4e292c",
   "metadata": {},
   "outputs": [],
   "source": []
  }
 ],
 "metadata": {
  "kernelspec": {
   "display_name": "Python 3 (ipykernel)",
   "language": "python",
   "name": "python3"
  },
  "language_info": {
   "codemirror_mode": {
    "name": "ipython",
    "version": 3
   },
   "file_extension": ".py",
   "mimetype": "text/x-python",
   "name": "python",
   "nbconvert_exporter": "python",
   "pygments_lexer": "ipython3",
   "version": "3.9.7"
  }
 },
 "nbformat": 4,
 "nbformat_minor": 5
}
