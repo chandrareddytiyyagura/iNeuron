{
 "cells": [
  {
   "cell_type": "markdown",
   "id": "d6e0685d",
   "metadata": {},
   "source": [
    "## 1.\tWhat are features possible only under Docker Enterprise Edition compared to the Docker community edition?"
   ]
  },
  {
   "cell_type": "markdown",
   "id": "91ea6ae8",
   "metadata": {},
   "source": [
    "- Role-based access controls\n",
    "- Audit Log\n",
    "- Automated builds\n",
    "- Concurrent builds\n",
    "- GitHub integration\n",
    "- Bitbucket integration\n",
    "- Slack notifications\n",
    "- Build triggers"
   ]
  },
  {
   "cell_type": "markdown",
   "id": "2e207297",
   "metadata": {},
   "source": [
    "## 2.\tHow to create a user-defined bridge network?"
   ]
  },
  {
   "cell_type": "markdown",
   "id": "222f1785",
   "metadata": {},
   "source": [
    "- $docker network create my-net."
   ]
  },
  {
   "cell_type": "markdown",
   "id": "54a0578f",
   "metadata": {},
   "source": [
    "## 3.\tDoes Docker support IPv6?"
   ]
  },
  {
   "cell_type": "markdown",
   "id": "50c8402b",
   "metadata": {},
   "source": [
    "- Docker supports IPv6 addressing and IPv6 network builds."
   ]
  },
  {
   "cell_type": "markdown",
   "id": "45029586",
   "metadata": {},
   "source": [
    "## 4.\tHow to deploy your images with azure container instances?"
   ]
  },
  {
   "cell_type": "code",
   "execution_count": null,
   "id": "732131d9",
   "metadata": {},
   "outputs": [],
   "source": []
  },
  {
   "cell_type": "markdown",
   "id": "9121188f",
   "metadata": {},
   "source": [
    "## 5.\tWhat is the docker swarm?"
   ]
  },
  {
   "cell_type": "markdown",
   "id": "849f87fe",
   "metadata": {},
   "source": [
    "- Docker swarm is a container orchestration tool, meaning that it allows the user to manage multiple containers deployed across multiple host machines."
   ]
  },
  {
   "cell_type": "markdown",
   "id": "49159201",
   "metadata": {},
   "source": [
    "## 6.\tWhat is a memory-swap flag?"
   ]
  },
  {
   "cell_type": "markdown",
   "id": "1e51fbab",
   "metadata": {},
   "source": [
    "- Memory-swap is a modifier flag. Using swap allows the container to write excess memory requirements to disk when the container has exhausted all the RAM that is available to it. There is a performance penalty for applications that swap memory to disk often."
   ]
  },
  {
   "cell_type": "markdown",
   "id": "89c10fad",
   "metadata": {},
   "source": [
    "## 7.\tCan you explain the different volume mount types available in Docker?"
   ]
  },
  {
   "cell_type": "markdown",
   "id": "ed9e6ae6",
   "metadata": {},
   "source": [
    "1)Volumes\n",
    "\n",
    "2)Bind mount\n",
    "\n",
    "3)tmpfs mounts"
   ]
  },
  {
   "cell_type": "markdown",
   "id": "aa0efc08",
   "metadata": {},
   "source": [
    "## 8.\tHow to share data among Docker hosts?"
   ]
  },
  {
   "cell_type": "markdown",
   "id": "d071f2cf",
   "metadata": {},
   "source": [
    "- **Using bind mounts**\n",
    "    - Step 1: Let’s make a directory where we will mount with the container\n",
    "    - Step 2: Build and run the container using the Nginx image\n",
    "    - Step 3: Get your IP address\n",
    "    - Step 4: Testing\n",
    "- **Using volume mounting**\n",
    "    - Step 1: Create a volume\n",
    "    - Step 2: Container mapping\n",
    "    - Step 3: Get the IP Address of your host computer\n",
    "    - Step 4: Testing"
   ]
  },
  {
   "cell_type": "markdown",
   "id": "8ba101e3",
   "metadata": {},
   "source": [
    "## 9.\tHow to backup, restore, or Migrate data volumes under docker containers?"
   ]
  },
  {
   "cell_type": "markdown",
   "id": "7d7232ab",
   "metadata": {},
   "source": [
    "1)Commit the container to an image.\n",
    "\n",
    "2)Save the image.\n",
    "\n",
    "3)Backup the container's volume by creating a tar file of the volume's mount point in the container.\n",
    "\n",
    "4)Repeat steps 1-3 for the database container as well."
   ]
  },
  {
   "cell_type": "markdown",
   "id": "e576524a",
   "metadata": {},
   "source": [
    "## 10.\tWhy does the docker service take 10 seconds to recreate or stop?"
   ]
  },
  {
   "cell_type": "markdown",
   "id": "a46444a5",
   "metadata": {},
   "source": [
    "- Compose stop attempts to stop a container by sending a SIGTERM . It then waits for a default timeout of 10 seconds. After the timeout, a SIGKILL is sent to the container to forcefully kill it."
   ]
  },
  {
   "cell_type": "code",
   "execution_count": null,
   "id": "bfcd745a",
   "metadata": {},
   "outputs": [],
   "source": []
  }
 ],
 "metadata": {
  "kernelspec": {
   "display_name": "Python 3 (ipykernel)",
   "language": "python",
   "name": "python3"
  },
  "language_info": {
   "codemirror_mode": {
    "name": "ipython",
    "version": 3
   },
   "file_extension": ".py",
   "mimetype": "text/x-python",
   "name": "python",
   "nbconvert_exporter": "python",
   "pygments_lexer": "ipython3",
   "version": "3.9.7"
  }
 },
 "nbformat": 4,
 "nbformat_minor": 5
}
