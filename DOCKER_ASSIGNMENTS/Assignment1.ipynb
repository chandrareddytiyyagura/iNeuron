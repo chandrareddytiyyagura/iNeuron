{
 "cells": [
  {
   "cell_type": "markdown",
   "id": "165ebefa",
   "metadata": {},
   "source": [
    "## 1.\tWhat is Docker?"
   ]
  },
  {
   "cell_type": "markdown",
   "id": "577790ed",
   "metadata": {},
   "source": [
    "- Docker is a tool that promises to easily encapulates the process of creating a distributions aritifact for any application , deploying it at scale into any environment, and streamlining the workflow and responsiveness of agile softaware orginations"
   ]
  },
  {
   "cell_type": "markdown",
   "id": "1f25c51b",
   "metadata": {},
   "source": [
    "## 2.\tWhat is a Container?"
   ]
  },
  {
   "cell_type": "markdown",
   "id": "300ccbde",
   "metadata": {},
   "source": [
    "- A Docker container image is a lightweight, standalone, executable package of software that includes everything needed to run an application: code, runtime, system tools, system libraries and settings."
   ]
  },
  {
   "cell_type": "markdown",
   "id": "9845f17d",
   "metadata": {},
   "source": [
    "## 3.\tWhat are Docker Images?"
   ]
  },
  {
   "cell_type": "markdown",
   "id": "d386da8f",
   "metadata": {},
   "source": [
    "- A Docker image is a file used to execute code in a Docker container. Docker images act as a set of instructions to build a Docker container, like a template. Docker images also act as the starting point when using Docker. An image is comparable to a snapshot in virtual machine (VM) environments."
   ]
  },
  {
   "cell_type": "markdown",
   "id": "4a682e4e",
   "metadata": {},
   "source": [
    "## 4.\t What is Docker Hub?"
   ]
  },
  {
   "cell_type": "markdown",
   "id": "ee8cb077",
   "metadata": {},
   "source": [
    "- Docker Hub is a service provided by Docker for finding and sharing container images with your team."
   ]
  },
  {
   "cell_type": "markdown",
   "id": "020afa0c",
   "metadata": {},
   "source": [
    "## 5.\tExplain Docker Architecture?"
   ]
  },
  {
   "cell_type": "markdown",
   "id": "74d6c59b",
   "metadata": {},
   "source": [
    "- Docker uses a client-server architecture. The Docker client talks to the Docker daemon, which does the heavy lifting of building, running, and distributing your Docker containers. The Docker client and daemon can run on the same system, or you can connect a Docker client to a remote Docker daemon."
   ]
  },
  {
   "cell_type": "markdown",
   "id": "41df428b",
   "metadata": {},
   "source": [
    "## 6.\tWhat is a Dockerfile?"
   ]
  },
  {
   "cell_type": "markdown",
   "id": "0e452549",
   "metadata": {},
   "source": [
    "- A Dockerfile is a text document that contains all the commands a user could call on the command line to assemble an image. Using docker build users can create an automated build that executes several command-line instructions in succession."
   ]
  },
  {
   "cell_type": "markdown",
   "id": "fc90943c",
   "metadata": {},
   "source": [
    "## 7.\tWhat is the purpose of the EXPOSE command in Dockerfile?"
   ]
  },
  {
   "cell_type": "markdown",
   "id": "bb29f21d",
   "metadata": {},
   "source": [
    "- The EXPOSE instruction exposes a particular port with a specified protocol inside a Docker Container."
   ]
  },
  {
   "cell_type": "markdown",
   "id": "7b39296a",
   "metadata": {},
   "source": [
    "## 8.\tWhy is docker monitoring necessary?"
   ]
  },
  {
   "cell_type": "markdown",
   "id": "0cc3ba83",
   "metadata": {},
   "source": [
    "- Detect and solve issues early and proactively to avoid risks in production."
   ]
  },
  {
   "cell_type": "markdown",
   "id": "c3b8bbe1",
   "metadata": {},
   "source": [
    "## 9.\tWhat is a Docker Engine?"
   ]
  },
  {
   "cell_type": "markdown",
   "id": "871a59ef",
   "metadata": {},
   "source": [
    "- Docker Engine is an open source containerization technology for building and containerizing your applications. Docker Engine acts as a client-server application "
   ]
  },
  {
   "cell_type": "code",
   "execution_count": null,
   "id": "e62512ba",
   "metadata": {},
   "outputs": [],
   "source": []
  }
 ],
 "metadata": {
  "kernelspec": {
   "display_name": "Python 3 (ipykernel)",
   "language": "python",
   "name": "python3"
  },
  "language_info": {
   "codemirror_mode": {
    "name": "ipython",
    "version": 3
   },
   "file_extension": ".py",
   "mimetype": "text/x-python",
   "name": "python",
   "nbconvert_exporter": "python",
   "pygments_lexer": "ipython3",
   "version": "3.9.7"
  }
 },
 "nbformat": 4,
 "nbformat_minor": 5
}
