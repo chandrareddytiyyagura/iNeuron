{
 "cells": [
  {
   "cell_type": "markdown",
   "id": "f5deb968",
   "metadata": {},
   "source": [
    "## 1.\tDifference between virtualization and containerization?"
   ]
  },
  {
   "cell_type": "markdown",
   "id": "0ac4f123",
   "metadata": {},
   "source": [
    "- Virtualization uses the notion of a virtual machine as the fundamental unit.\n",
    "- Containerization, on the other hand, uses the concept of a container."
   ]
  },
  {
   "cell_type": "markdown",
   "id": "d74cde20",
   "metadata": {},
   "source": [
    "## 2.\tWhat is a Docker hub?"
   ]
  },
  {
   "cell_type": "markdown",
   "id": "89d96a56",
   "metadata": {},
   "source": [
    "- Docker Hub is a service provided by Docker for finding and sharing container images with your team."
   ]
  },
  {
   "cell_type": "markdown",
   "id": "ffe8a2c6",
   "metadata": {},
   "source": [
    "## 3.\tTell us something about docker-compose?"
   ]
  },
  {
   "cell_type": "markdown",
   "id": "dfb217a7",
   "metadata": {},
   "source": [
    "- Docker Compose is a tool that was developed to help define and share multi-container applications."
   ]
  },
  {
   "cell_type": "markdown",
   "id": "98146d0e",
   "metadata": {},
   "source": [
    "## 4.\tWhat is the docker swarm?"
   ]
  },
  {
   "cell_type": "markdown",
   "id": "a7d86fe8",
   "metadata": {},
   "source": [
    "- Docker swarm is a container orchestration tool, meaning that it allows the user to manage multiple containers deployed across multiple host machines"
   ]
  },
  {
   "cell_type": "markdown",
   "id": "a42450a0",
   "metadata": {},
   "source": [
    "## 5.\tExplain the lifecycle of the docker container?"
   ]
  },
  {
   "cell_type": "markdown",
   "id": "5cce5bad",
   "metadata": {},
   "source": [
    "- **Created:** A container that has been created but not started\n",
    "- **Running:** A container running with all its processes\n",
    "- **Paused:** A container whose processes have been paused\n",
    "- **Stopped:** A container whose processes have been stopped\n",
    "- **Deleted:** A container in a dead state"
   ]
  },
  {
   "cell_type": "markdown",
   "id": "83970722",
   "metadata": {},
   "source": [
    "## 6.\tHow to check the docker client and docker server version?"
   ]
  },
  {
   "cell_type": "markdown",
   "id": "0ea74531",
   "metadata": {},
   "source": [
    "- $docker version"
   ]
  },
  {
   "cell_type": "markdown",
   "id": "ddb603f2",
   "metadata": {},
   "source": [
    "## 7.\tHow do you get the number of containers running, paused, and stopped?"
   ]
  },
  {
   "cell_type": "markdown",
   "id": "037abaca",
   "metadata": {},
   "source": [
    "- $docker ps"
   ]
  },
  {
   "cell_type": "markdown",
   "id": "44f3bf90",
   "metadata": {},
   "source": [
    "## 8.\tIf you vaguely remember the command and you’d like to confirm it, how will you get help on that particular command?"
   ]
  },
  {
   "cell_type": "markdown",
   "id": "6d5cf3f8",
   "metadata": {},
   "source": [
    "- $docker <command> --help"
   ]
  },
  {
   "cell_type": "markdown",
   "id": "7364c895",
   "metadata": {},
   "source": [
    "## 9.\tHow to log in to the docker repository?"
   ]
  },
  {
   "cell_type": "markdown",
   "id": "1e59fbd4",
   "metadata": {},
   "source": [
    "- $ docker login"
   ]
  },
  {
   "cell_type": "markdown",
   "id": "f9e52b6e",
   "metadata": {},
   "source": [
    "## 10.\tHow do you create a docker container from an image?"
   ]
  },
  {
   "cell_type": "markdown",
   "id": "fd026511",
   "metadata": {},
   "source": [
    "- $docker run -it -d <imagename>"
   ]
  },
  {
   "cell_type": "code",
   "execution_count": null,
   "id": "f0e0809c",
   "metadata": {},
   "outputs": [],
   "source": []
  }
 ],
 "metadata": {
  "kernelspec": {
   "display_name": "Python 3 (ipykernel)",
   "language": "python",
   "name": "python3"
  },
  "language_info": {
   "codemirror_mode": {
    "name": "ipython",
    "version": 3
   },
   "file_extension": ".py",
   "mimetype": "text/x-python",
   "name": "python",
   "nbconvert_exporter": "python",
   "pygments_lexer": "ipython3",
   "version": "3.9.7"
  }
 },
 "nbformat": 4,
 "nbformat_minor": 5
}
