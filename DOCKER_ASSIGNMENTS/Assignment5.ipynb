{
 "cells": [
  {
   "cell_type": "markdown",
   "id": "4a19e0e1",
   "metadata": {},
   "source": [
    "## 1.\tHow big can Docker containers get? Are there any prerequisites for this?"
   ]
  },
  {
   "cell_type": "markdown",
   "id": "8771cf1d",
   "metadata": {},
   "source": [
    "- Maximum container size is 100GB."
   ]
  },
  {
   "cell_type": "markdown",
   "id": "4059b09f",
   "metadata": {},
   "source": [
    "## 2.\tWhat operating systems does Docker support?"
   ]
  },
  {
   "cell_type": "markdown",
   "id": "466a61a9",
   "metadata": {},
   "source": [
    "- The Docker platform runs natively on Linux (on x86-64, ARM and many other CPU architectures) and on Windows (x86-64)."
   ]
  },
  {
   "cell_type": "markdown",
   "id": "2e63b7cf",
   "metadata": {},
   "source": [
    "## 3.\tHow can I figure out what a Docker container's state is?"
   ]
  },
  {
   "cell_type": "markdown",
   "id": "a40b77d6",
   "metadata": {},
   "source": [
    "- $systemctl status docker"
   ]
  },
  {
   "cell_type": "markdown",
   "id": "29738f46",
   "metadata": {},
   "source": [
    "## 4.\tHow do you unpause a Docker container?"
   ]
  },
  {
   "cell_type": "markdown",
   "id": "3af50adc",
   "metadata": {},
   "source": [
    "- $docker unpause [containername]"
   ]
  },
  {
   "cell_type": "markdown",
   "id": "42ea9b4f",
   "metadata": {},
   "source": [
    "## 5.\tIs it possible for a container to restart on its own?"
   ]
  },
  {
   "cell_type": "markdown",
   "id": "6e59c026",
   "metadata": {},
   "source": [
    "- No, it’s not possible for a container to restart by itself. By default the flag -restart is set to false."
   ]
  },
  {
   "cell_type": "markdown",
   "id": "19d73279",
   "metadata": {},
   "source": [
    "## 6.\tIs it better to use the RM command to delete the container or to stop it by removing it?"
   ]
  },
  {
   "cell_type": "markdown",
   "id": "510446a4",
   "metadata": {},
   "source": [
    "- Its always better to stop the container and then remove it using the remove command"
   ]
  },
  {
   "cell_type": "markdown",
   "id": "2db708d5",
   "metadata": {},
   "source": [
    "## 7.\tIs it a smart idea to use Docker to run stateful applications?"
   ]
  },
  {
   "cell_type": "markdown",
   "id": "4ea79f56",
   "metadata": {},
   "source": [
    "- No,it is not a smart idea.The problem with statefull docker aplications is that they by default store their data in the containers filesystem. Once you update your software version or want to move to another machine its hard to retrieve the data from there."
   ]
  },
  {
   "cell_type": "markdown",
   "id": "ec2fcfc3",
   "metadata": {},
   "source": [
    "## 8.\tWill cloud overtake the concept of containerization?"
   ]
  },
  {
   "cell_type": "markdown",
   "id": "93a01a0f",
   "metadata": {},
   "source": [
    " - No,it will not overtake the concept of containerization"
   ]
  },
  {
   "cell_type": "markdown",
   "id": "83a307c6",
   "metadata": {},
   "source": [
    "## 9.\tHow do you load a pre-exported Docker image onto another Docker host using a command?"
   ]
  },
  {
   "cell_type": "markdown",
   "id": "3076c7d0",
   "metadata": {},
   "source": [
    "- To import an exported container as an image, we use the docker import command."
   ]
  },
  {
   "cell_type": "code",
   "execution_count": null,
   "id": "d06f99d4",
   "metadata": {},
   "outputs": [],
   "source": []
  }
 ],
 "metadata": {
  "kernelspec": {
   "display_name": "Python 3 (ipykernel)",
   "language": "python",
   "name": "python3"
  },
  "language_info": {
   "codemirror_mode": {
    "name": "ipython",
    "version": 3
   },
   "file_extension": ".py",
   "mimetype": "text/x-python",
   "name": "python",
   "nbconvert_exporter": "python",
   "pygments_lexer": "ipython3",
   "version": "3.9.7"
  }
 },
 "nbformat": 4,
 "nbformat_minor": 5
}
