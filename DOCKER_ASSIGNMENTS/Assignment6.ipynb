{
 "cells": [
  {
   "cell_type": "markdown",
   "id": "8f5ab419",
   "metadata": {},
   "source": [
    "## 1.\tWhat is the .dockerignore file's purpose?"
   ]
  },
  {
   "cell_type": "markdown",
   "id": "a0c99ad4",
   "metadata": {},
   "source": [
    "- dockerignore file is used to ignore files and folders when you try to build a Docker Image. "
   ]
  },
  {
   "cell_type": "markdown",
   "id": "ac6e042a",
   "metadata": {},
   "source": [
    "## 2.\tHow necessary is it to create a cache in Docker?"
   ]
  },
  {
   "cell_type": "markdown",
   "id": "f1ae9595",
   "metadata": {},
   "source": [
    "- If the objects on the file system that Docker is about to produce are unchanged between builds, reusing a cache of a previous build on the host is a great time-saver. It makes building a new container really, really fast."
   ]
  },
  {
   "cell_type": "markdown",
   "id": "8bcf9fbb",
   "metadata": {},
   "source": [
    "## 3.\tWhat is the significance of docker monitoring?"
   ]
  },
  {
   "cell_type": "markdown",
   "id": "0fbebead",
   "metadata": {},
   "source": [
    "- Monitoring helps to identify issues proactively that would help to avoid system outages. The monitoring time-series data provide insights to fine-tune applications for better performance and robustness."
   ]
  },
  {
   "cell_type": "markdown",
   "id": "4fdadb51",
   "metadata": {},
   "source": [
    "## 4.\tDifferences between Windows and Hyper-V Containers?"
   ]
  },
  {
   "cell_type": "markdown",
   "id": "7dc0333a",
   "metadata": {},
   "source": [
    "- Hyper-V containers are still using Windows containers within the VM. The only difference is the Windows container is now running inside a Hyper-V VM which provides kernel isolation and separation of the host patch/version level from that used by the application."
   ]
  },
  {
   "cell_type": "markdown",
   "id": "71514acf",
   "metadata": {},
   "source": [
    "## 5.\tHow do I use docker-compose to declare default environment variables?"
   ]
  },
  {
   "cell_type": "markdown",
   "id": "6afd7ae2",
   "metadata": {},
   "source": [
    "- Use -e or --env value to set environment variables"
   ]
  },
  {
   "cell_type": "markdown",
   "id": "50ed4670",
   "metadata": {},
   "source": [
    "## 6.\tWhat is the trusted registry for Docker?"
   ]
  },
  {
   "cell_type": "markdown",
   "id": "951c71f5",
   "metadata": {},
   "source": [
    "- Docker Trusted Registry is an enterprise-grade image storage solution from Docker. It is installed behind a firewall so that Docker images can be securely stored and managed, on-premise, letting an organization keep it's containers separate from the rest of the world."
   ]
  },
  {
   "cell_type": "markdown",
   "id": "1b8a611a",
   "metadata": {},
   "source": [
    "## 7.\tHow do you determine the version of the Docker client and server?"
   ]
  },
  {
   "cell_type": "markdown",
   "id": "ee48de8b",
   "metadata": {},
   "source": [
    "- $ docker version"
   ]
  },
  {
   "cell_type": "markdown",
   "id": "3f42ca82",
   "metadata": {},
   "source": [
    "## 8.\tCan you tell the difference between the COPY and ADD commands in a Dockerfile?"
   ]
  },
  {
   "cell_type": "markdown",
   "id": "1d36d710",
   "metadata": {},
   "source": [
    "- COPY is a dockerfile command that copies files from a local source location to a destination in the Docker container.\n",
    "- ADD command is used to copy files/directories into a Docker image."
   ]
  },
  {
   "cell_type": "markdown",
   "id": "c32269f6",
   "metadata": {},
   "source": [
    "## 9.\tIs it possible for a container to restart on its own?"
   ]
  },
  {
   "cell_type": "markdown",
   "id": "40f316b4",
   "metadata": {},
   "source": [
    "- No, it’s not possible for a container to restart by itself. By default the flag -restart is set to false."
   ]
  },
  {
   "cell_type": "markdown",
   "id": "a75b2a83",
   "metadata": {},
   "source": [
    "## 10.\tWhat is the volume parameter in a docker run command used for?"
   ]
  },
  {
   "cell_type": "markdown",
   "id": "fb647e00",
   "metadata": {},
   "source": [
    " - To denote where your container will write application data."
   ]
  },
  {
   "cell_type": "code",
   "execution_count": null,
   "id": "9e41c1c0",
   "metadata": {},
   "outputs": [],
   "source": []
  }
 ],
 "metadata": {
  "kernelspec": {
   "display_name": "Python 3 (ipykernel)",
   "language": "python",
   "name": "python3"
  },
  "language_info": {
   "codemirror_mode": {
    "name": "ipython",
    "version": 3
   },
   "file_extension": ".py",
   "mimetype": "text/x-python",
   "name": "python",
   "nbconvert_exporter": "python",
   "pygments_lexer": "ipython3",
   "version": "3.9.7"
  }
 },
 "nbformat": 4,
 "nbformat_minor": 5
}
