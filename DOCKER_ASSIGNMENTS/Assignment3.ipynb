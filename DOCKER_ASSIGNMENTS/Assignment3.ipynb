{
 "cells": [
  {
   "cell_type": "markdown",
   "id": "fa16cd29",
   "metadata": {},
   "source": [
    "## 1.\tWhat is the way to establish communication between the docker and Linux hosts?"
   ]
  },
  {
   "cell_type": "markdown",
   "id": "40e76d0c",
   "metadata": {},
   "source": [
    "- For containers to communicate with other, they need to be part of the same “network”. Docker creates a virtual network called bridge by default, and connects your containers to it. In the network, containers are assigned an IP address, which they can use to address each other."
   ]
  },
  {
   "cell_type": "markdown",
   "id": "784165a3",
   "metadata": {},
   "source": [
    "## 2.\tDifferentiate between COPY and ADD commands that are used in a Dockerfile?"
   ]
  },
  {
   "cell_type": "markdown",
   "id": "5e033ecc",
   "metadata": {},
   "source": [
    "- COPY is a dockerfile command that copies files from a local source location to a destination in the Docker container.\n",
    "- ADD command is used to copy files/directories into a Docker image."
   ]
  },
  {
   "cell_type": "markdown",
   "id": "72401182",
   "metadata": {},
   "source": [
    "## 3.\tCan you tell what the functionality of a hypervisor is?"
   ]
  },
  {
   "cell_type": "markdown",
   "id": "a20e2719",
   "metadata": {},
   "source": [
    "- A hypervisor is a software that makes virtualization possible. It is also called Virtual Machine Monitor. It divides the host system and allocates the resources to each divided virtual environment."
   ]
  },
  {
   "cell_type": "markdown",
   "id": "ad31f5f2",
   "metadata": {},
   "source": [
    "## 4.\tCan you tell me something about the docker namespace?"
   ]
  },
  {
   "cell_type": "markdown",
   "id": "8abc84f2",
   "metadata": {},
   "source": [
    "- A namespace is one of the Linux features and an important concept of containers. Namespace adds a layer of isolation in containers. Docker provides various namespaces in order to stay portable and not affect the underlying host system. Few namespace types supported by Docker – PID, Mount, IPC, User, Network"
   ]
  },
  {
   "cell_type": "markdown",
   "id": "09a3b62e",
   "metadata": {},
   "source": [
    "## 5.\tIn what circumstances will you lose data stored in a container?"
   ]
  },
  {
   "cell_type": "markdown",
   "id": "2efbf465",
   "metadata": {},
   "source": [
    "- The data of a container remains in it until and unless you delete the container."
   ]
  },
  {
   "cell_type": "markdown",
   "id": "20e3969e",
   "metadata": {},
   "source": [
    "## 6.\tCan you use a container, edit it, and update it? Also, how do you make it new and store it on the local system?"
   ]
  },
  {
   "cell_type": "markdown",
   "id": "bbc7f816",
   "metadata": {},
   "source": [
    "- $docker commit \\<conatainer id> <username/imagename>"
   ]
  },
  {
   "cell_type": "markdown",
   "id": "6d1fc051",
   "metadata": {},
   "source": [
    "## 7.\tHow to delete an image from the local storage system?"
   ]
  },
  {
   "cell_type": "markdown",
   "id": "1e5ff3ce",
   "metadata": {},
   "source": [
    "- $ docker rmi <imageid>"
   ]
  },
  {
   "cell_type": "markdown",
   "id": "e46b0ab4",
   "metadata": {},
   "source": [
    "## 8.\tHow to build a Dockerfile? "
   ]
  },
  {
   "cell_type": "markdown",
   "id": "8c6b0753",
   "metadata": {},
   "source": [
    "- $ docker build \\<path of docker file>"
   ]
  },
  {
   "cell_type": "markdown",
   "id": "6d460ac3",
   "metadata": {},
   "source": [
    "## 9.\t Do you know why the docker system prune is used? What does it do?"
   ]
  },
  {
   "cell_type": "markdown",
   "id": "60273638",
   "metadata": {},
   "source": [
    "- The basic usage of the command docker system prune is Remove unused data.  Removes all unused containers, networks, images , and optionally, volumes."
   ]
  },
  {
   "cell_type": "markdown",
   "id": "f7d5f7a5",
   "metadata": {},
   "source": [
    "## 10.\t What command can you run to export a docker image as an archive?"
   ]
  },
  {
   "cell_type": "markdown",
   "id": "bc0c7cdb",
   "metadata": {},
   "source": [
    "- Docker export is a command that is used to export the container's file system as an archive"
   ]
  },
  {
   "cell_type": "code",
   "execution_count": null,
   "id": "6cd4ad30",
   "metadata": {},
   "outputs": [],
   "source": []
  }
 ],
 "metadata": {
  "kernelspec": {
   "display_name": "Python 3 (ipykernel)",
   "language": "python",
   "name": "python3"
  },
  "language_info": {
   "codemirror_mode": {
    "name": "ipython",
    "version": 3
   },
   "file_extension": ".py",
   "mimetype": "text/x-python",
   "name": "python",
   "nbconvert_exporter": "python",
   "pygments_lexer": "ipython3",
   "version": "3.9.7"
  }
 },
 "nbformat": 4,
 "nbformat_minor": 5
}
