{
 "cells": [
  {
   "cell_type": "markdown",
   "id": "b8894c64",
   "metadata": {},
   "source": [
    "# Problem 1\n",
    "- Write a Python Program to implement your own myreduce() function which works exactly like Python's built-in function reduce()"
   ]
  },
  {
   "cell_type": "code",
   "execution_count": 1,
   "id": "e1fb21b5",
   "metadata": {},
   "outputs": [],
   "source": [
    "def myreduce(anyfunction, sequence):\n",
    "    result = sequence[0]\n",
    "    for item in sequence[1:]:\n",
    "        result = anyfunction(result, item)\n",
    "    return result"
   ]
  },
  {
   "cell_type": "code",
   "execution_count": 2,
   "id": "d120825a",
   "metadata": {},
   "outputs": [
    {
     "name": "stdout",
     "output_type": "stream",
     "text": [
      "Enter the list items : 1 2 3 4 5 6 7 8 9 10\n",
      "55\n"
     ]
    }
   ],
   "source": [
    "def sum(x,y):\n",
    "    return x + y\n",
    "input_list = list(map(int,input(\"Enter the list items : \").split()))\n",
    "print(myreduce(sum,input_list))"
   ]
  },
  {
   "cell_type": "markdown",
   "id": "9d264c8c",
   "metadata": {},
   "source": [
    "# Problem 2\n",
    "- Write a Python program to implement your own myfilter() function which works exactly like Python's built-in function filter()"
   ]
  },
  {
   "cell_type": "code",
   "execution_count": 3,
   "id": "6db09b05",
   "metadata": {},
   "outputs": [],
   "source": [
    "def myfilter(anyfunction, sequence):\n",
    "    result = []\n",
    "    for item in sequence:\n",
    "        if(anyfunction(item)):\n",
    "            result.append(item)\n",
    "    return result"
   ]
  },
  {
   "cell_type": "code",
   "execution_count": 4,
   "id": "86fe0526",
   "metadata": {},
   "outputs": [
    {
     "name": "stdout",
     "output_type": "stream",
     "text": [
      "Enter list items : 1 2 3 4 5 6 7 8 9 10\n",
      "[1, 2, 3, 5, 7]\n"
     ]
    }
   ],
   "source": [
    "def  isPrime(item):\n",
    "    c = 0\n",
    "    for i in range(2,item):\n",
    "        if(item%i==0):\n",
    "            c = c + 1\n",
    "    if(c==0):\n",
    "        return True\n",
    "    else:\n",
    "        return False\n",
    "input_list = list(map(int,input(\"Enter list items : \").split()))\n",
    "print(myfilter(isPrime, input_list))"
   ]
  },
  {
   "cell_type": "markdown",
   "id": "6311c1d2",
   "metadata": {},
   "source": [
    "# Problem 3\n",
    "- Implement List comprehensions to produce the following lists.Write List comprehensions to produce the following Lists\n",
    "- ['x', 'xx', 'xxx', 'xxxx', 'y', 'yy', 'yyy', 'yyyy', 'z', 'zz', 'zzz', 'zzzz']<br>['x', 'y', 'z', 'xx', 'yy', 'zz', 'xxx', 'yyy', 'zzz', 'xxxx', 'yyyy', 'zzzz']<br>[[2], [3], [4], [3], [4], [5], [4], [5], [6]] <br>[[2,3,4,5],[3,4,5,6],[4,5,6,7],[5,6,7,8]]<br>[(1, 1), (2, 1), (3, 1), (1, 2), (2, 2), (3, 2), (1, 3), (2, 3), (3, 3)]"
   ]
  },
  {
   "cell_type": "code",
   "execution_count": 5,
   "id": "7c921cc8",
   "metadata": {},
   "outputs": [
    {
     "name": "stdout",
     "output_type": "stream",
     "text": [
      "['x', 'xx', 'xxx', 'xxxx', 'y', 'yy', 'yyy', 'yyyy', 'z', 'zz', 'zzz', 'zzzz']\n",
      "['x', 'y', 'z', 'xx', 'yy', 'zz', 'xxx', 'yyy', 'zzz', 'xxxx', 'yyyy', 'zzzz']\n",
      "[[2], [3], [4], [3], [4], [5], [4], [5], [6]]\n",
      "[[2, 3, 4, 5], [3, 4, 5, 6], [4, 5, 6, 7], [5, 6, 7, 8]]\n",
      "[[2, 3, 4, 5], [3, 4, 5, 6], [4, 5, 6, 7], [5, 6, 7, 8]]\n"
     ]
    }
   ],
   "source": [
    "input_list1 = ['x','y','z']\n",
    "result1 = [item*num for item in input_list1 for num in range(1,5)]\n",
    "print(result1)\n",
    "\n",
    "result2 = [item*num for num in range(1,5) for item in input_list1]\n",
    "print(result2)\n",
    "\n",
    "input_list2 = [2,3,4]\n",
    "result3 = [[item+num] for item in input_list2 for num in range(0,3)]\n",
    "print(result3)\n",
    "\n",
    "input_list3 = [2,3,4,5]\n",
    "result4 = [[item+num for item in input_list3] for num in range(0,4)]\n",
    "print(result4)\n",
    "\n",
    "input_list4 = [1,2,3]\n",
    "result5 = [(b,a) for a in input_list4 for b in input_list4]\n",
    "print(result4)"
   ]
  },
  {
   "cell_type": "markdown",
   "id": "1cc113c7",
   "metadata": {},
   "source": [
    "# End of notebook"
   ]
  }
 ],
 "metadata": {
  "kernelspec": {
   "display_name": "Python 3",
   "language": "python",
   "name": "python3"
  },
  "language_info": {
   "codemirror_mode": {
    "name": "ipython",
    "version": 3
   },
   "file_extension": ".py",
   "mimetype": "text/x-python",
   "name": "python",
   "nbconvert_exporter": "python",
   "pygments_lexer": "ipython3",
   "version": "3.8.8"
  }
 },
 "nbformat": 4,
 "nbformat_minor": 5
}
