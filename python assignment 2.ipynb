{
 "cells": [
  {
   "cell_type": "markdown",
   "id": "db99d285",
   "metadata": {},
   "source": [
    "# Problem 1\n",
    "- Create the below pattern using nested for loop in python\n",
    "###### * <br> * *<br>* * *<br>* * * *<br>* * * * *<br>* * * *<br>* * *<br>* *<br>*"
   ]
  },
  {
   "cell_type": "code",
   "execution_count": 1,
   "id": "d910c792",
   "metadata": {},
   "outputs": [
    {
     "name": "stdout",
     "output_type": "stream",
     "text": [
      "\n",
      "* \n",
      "* * \n",
      "* * * \n",
      "* * * * \n",
      "* * * * * \n",
      "* * * * \n",
      "* * * \n",
      "* * \n",
      "* \n"
     ]
    }
   ],
   "source": [
    "for i in range(6):\n",
    "    for j in range(i):\n",
    "        print(\"*\",end=\" \")\n",
    "    print()\n",
    "for i in range(4,0,-1):\n",
    "    for j in range(i):\n",
    "        print(\"*\",end=\" \")\n",
    "    print()"
   ]
  },
  {
   "cell_type": "markdown",
   "id": "4af14e73",
   "metadata": {},
   "source": [
    "# Problem 2\n",
    "- Write a python program to reverse a word after accepting the input from user.\n",
    "### Sample Output\n",
    "###### Input Word : ineuron <br> Output : norueni"
   ]
  },
  {
   "cell_type": "code",
   "execution_count": 2,
   "id": "97ed21c4",
   "metadata": {},
   "outputs": [
    {
     "name": "stdout",
     "output_type": "stream",
     "text": [
      "Input Word : chandra\n",
      "ardnahc\n"
     ]
    }
   ],
   "source": [
    "input_word = input(\"Input Word : \")\n",
    "print(input_word[::-1])"
   ]
  },
  {
   "cell_type": "markdown",
   "id": "a9e53853",
   "metadata": {},
   "source": [
    "# End of notebok"
   ]
  }
 ],
 "metadata": {
  "kernelspec": {
   "display_name": "Python 3",
   "language": "python",
   "name": "python3"
  },
  "language_info": {
   "codemirror_mode": {
    "name": "ipython",
    "version": 3
   },
   "file_extension": ".py",
   "mimetype": "text/x-python",
   "name": "python",
   "nbconvert_exporter": "python",
   "pygments_lexer": "ipython3",
   "version": "3.8.8"
  }
 },
 "nbformat": 4,
 "nbformat_minor": 5
}
